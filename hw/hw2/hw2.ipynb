{
 "cells": [
  {
   "cell_type": "markdown",
   "metadata": {},
   "source": [
    "# HW2 : Math for Robotics"
   ]
  },
  {
   "cell_type": "markdown",
   "metadata": {},
   "source": [
    "Author: Ruffin White  \n",
    "Course: CSE291  \n",
    "Date: Feb 8 2018"
   ]
  },
  {
   "cell_type": "code",
   "execution_count": 1,
   "metadata": {},
   "outputs": [],
   "source": [
    "# Make plots inline\n",
    "%matplotlib inline\n",
    "\n",
    "# Make inline plots vector graphics instead of raster graphics\n",
    "from IPython.display import set_matplotlib_formats\n",
    "# set_matplotlib_formats('pdf', 'svg')\n",
    "# set_matplotlib_formats('png', 'pdf')\n",
    "set_matplotlib_formats('png')\n",
    "\n",
    "# import modules for plotting and data analysis\n",
    "import matplotlib.pyplot as plt"
   ]
  },
  {
   "cell_type": "markdown",
   "metadata": {},
   "source": [
    "## 1. \n",
    "\n",
    "> Prove that the first derivative $p'_2(x)$ of the parabola interpolating $f(x)$ at $x_0 < x_1 < x_2$ is equal to the straight line which takes on the value $f[x_{i−1}, x_i]$ at the point $(x_{i−1} + x_i)/2$, for $i = 1, 2$."
   ]
  },
  {
   "cell_type": "markdown",
   "metadata": {},
   "source": [
    "Given the shorthand notaion for the divided diffrence defines: \n",
    "\n",
    "$$\n",
    "f[x_{i−1}, x_i] = \\dfrac{f(x_i)-f(x_{i-1})}{x_i - x_{i-1}}\n",
    "$$\n",
    "\n",
    "And that $p_2(x)$ and $p'_2(x)$ for a parabola can be written as:\n",
    "\n",
    "$$\n",
    "p_2(x) = ax^2 + bx + c\n",
    "$$\n",
    "$$\n",
    "p'_2(x) = p_1(x) = 2ax + b\n",
    "$$\n",
    "\n",
    "From this we can see $p_1(x)$ assumes a line in the form of $y=mx+b$. The general pressmis we'd like to prove can be stated as so:"
   ]
  },
  {
   "cell_type": "markdown",
   "metadata": {},
   "source": [
    "$$\n",
    "f[x_{i-1}, x_i] = p_1(x)  \\quad x = (x_{i-1} + x_i)/2 \\quad i \\in [0, 1, 2] \\\\\n",
    "$$"
   ]
  },
  {
   "cell_type": "markdown",
   "metadata": {},
   "source": [
    "Substituting for $x$ in $p_1(x)$, we get: "
   ]
  },
  {
   "cell_type": "markdown",
   "metadata": {},
   "source": [
    "$$\n",
    "\\dfrac{f(x_{i})-f(x_{i-1})}{x_{i} - x_{i-1}} = a(x_{i-1} + x_i) + b \\\\\n",
    "$$"
   ]
  },
  {
   "cell_type": "markdown",
   "metadata": {},
   "source": [
    "Given that $p_2(x)$ is equal to $f(x)$ for the samples we have:"
   ]
  },
  {
   "cell_type": "markdown",
   "metadata": {},
   "source": [
    "$$\n",
    "f(x_i) = p_2(x_i), \\quad i \\in [0, 1, 2] \\\\\n",
    "$$"
   ]
  },
  {
   "cell_type": "markdown",
   "metadata": {},
   "source": [
    "We can substitute $p_2(x)$ for $f(x)$ in the divided diffrence, them simplify:"
   ]
  },
  {
   "cell_type": "markdown",
   "metadata": {},
   "source": [
    "$$\n",
    "\\dfrac{(ax_{i}^2 + bx_{i} + c) - (ax_{i-1}^2 + bx_{i-1} + c)}{x_{i} - x_{i-1}} = a(x_{i-1} + x_{i}) + b \\\\\n",
    "$$\n",
    "$$\n",
    "\\dfrac{(ax_{i}^2 + bx_{i}) - (ax_{i-1}^2 + bx_{i-1})}{x_{i} - x_{i-1}} = a(x_{i-1} + x_{i}) + b \\\\\n",
    "$$\n",
    "$$\n",
    "\\dfrac{a(x_{i} - x_{i-1})^2 + b(x_{i} - x_{i-1})}{x_{i} - x_{i-1}} = a(x_{i-1} + x_{i}) + b \\\\\n",
    "$$\n",
    "$$\n",
    "a(x_{i} - x_{i-1}) + b = a(x_{i-1} + x_{i}) + b \\\\\n",
    "$$"
   ]
  },
  {
   "cell_type": "markdown",
   "metadata": {},
   "source": [
    "So, unless there is an error in my assumptions or reductions, I think there might be a typo in that the point given shoudl be instead: $(x_{i} - x_{i-1})/2$, for $i = 1, 2$. This would then satifiy the above proof, when substituting the point on the right hand side."
   ]
  },
  {
   "cell_type": "markdown",
   "metadata": {
    "collapsed": true
   },
   "source": [
    "## 2. \n",
    "\n",
    "### a\n",
    "\n",
    "> Implement Muller's method.\n",
    "\n",
    "See Jupyter Notebook for code."
   ]
  },
  {
   "cell_type": "code",
   "execution_count": 2,
   "metadata": {},
   "outputs": [],
   "source": [
    "import numpy as np\n",
    "def muller(f, x2, x1, x0, maxiter):\n",
    "    \"\"\"\n",
    "    Addapted from the Muller's Methods presented in Numerical Recipes \n",
    "    \"\"\"\n",
    "    # Limit our seach to a finite number of iterations\n",
    "    for j in range(maxiter):\n",
    "        print(\"Iteration: \", j)\n",
    "        \n",
    "        # Compute A, B, C and q\n",
    "        q = (x0 - x1) / (x1 - x2)\n",
    "        A = q*f(x0) - q*(1 + q)*f(x1) + (q**2)*f(x2)\n",
    "        B = (2*q + 1)*f(x0) - ((1 + q)**2)*f(x1) + (q**2)*f(x2)\n",
    "        C = (1 + q)*f(x0)\n",
    "        print(\"  A: \", A)\n",
    "        print(\"  B: \", B)\n",
    "        print(\"  C: \", C)\n",
    "        print(\"  x_i: \", x0)\n",
    "        print(\"  x_{i-1}: \", x1)\n",
    "        \n",
    "        # To make sure the denominator is chosen to make its absolute value or modulus as large as possible\n",
    "        if np.real(B) > 0:\n",
    "            xi1 = x0 - (x0 - x1)*(2*C / (B + np.emath.sqrt(B**2 - 4*A*C)))\n",
    "        else:\n",
    "            xi1 = x0 - (x0 - x1)*(2*C / (B - np.emath.sqrt(B**2 - 4*A*C)))\n",
    "        print(\"  x_{i+1}: \", xi1)\n",
    "        \n",
    "        # Hault seach if we are close enough\n",
    "        if xi1 == x0:\n",
    "#             # This also avoids numerical issues when A,BC get to small\n",
    "            break\n",
    "#         if f(xi1) < tol:\n",
    "#             # This also avoids numerical issues when A,BC get to small\n",
    "#             break\n",
    "        x2 = x1\n",
    "        x1 = x0\n",
    "        x0 = xi1\n",
    "    return xi1"
   ]
  },
  {
   "cell_type": "markdown",
   "metadata": {},
   "source": []
  },
  {
   "cell_type": "markdown",
   "metadata": {},
   "source": [
    "### b\n",
    "> Use Muller's method to find all the roots of the polynomial $p(x) = x^3 - 4x^2 + 6x - 4$."
   ]
  },
  {
   "cell_type": "code",
   "execution_count": 3,
   "metadata": {},
   "outputs": [],
   "source": [
    "def f(x):\n",
    "    return x**3 - 4*x**2 + 6*x - 4\n",
    "\n",
    "maxiter = 50"
   ]
  },
  {
   "cell_type": "markdown",
   "metadata": {},
   "source": [
    "Using our Muller's method, we'll start by seaching for our first root. (Points close to the roots are chosen here to prevent exorbitantly large print-outs in the document for demonstration)"
   ]
  },
  {
   "cell_type": "code",
   "execution_count": 4,
   "metadata": {},
   "outputs": [
    {
     "name": "stdout",
     "output_type": "stream",
     "text": [
      "  x_i:  2.1\n",
      "  x_{i-1}:  2.01\n",
      "  x_{i-2}:  1.9\n",
      "Iteration:  0\n",
      "  A:  0.0296018181818178\n",
      "  B:  0.3946909090909126\n",
      "  C:  0.401818181818186\n",
      "  x_i:  2.1\n",
      "  x_{i-1}:  2.01\n",
      "  x_{i+1}:  2.00004974877\n",
      "Iteration:  1\n",
      "  A:  -0.00233051558625\n",
      "  B:  0.022091878273\n",
      "  C:  -1.10008305618e-05\n",
      "  x_i:  2.00004974877\n",
      "  x_{i-1}:  2.1\n",
      "  x_{i+1}:  1.99999997511\n",
      "Iteration:  2\n",
      "  A:  5.20528934176e-09\n",
      "  B:  -9.95966316446e-05\n",
      "  C:  -4.97985752115e-08\n",
      "  x_i:  1.99999997511\n",
      "  x_{i-1}:  2.00004974877\n",
      "  x_{i+1}:  2.0\n",
      "Iteration:  3\n",
      "  A:  1.23884476907e-15\n",
      "  B:  4.9749025369e-08\n",
      "  C:  1.2250733729e-13\n",
      "  x_i:  2.0\n",
      "  x_{i-1}:  1.99999997511\n",
      "  x_{i+1}:  2.0\n",
      "Iteration:  4\n",
      "  A:  -4.37427537128e-21\n",
      "  B:  -1.20791972002e-13\n",
      "  C:  1.77635246511e-15\n",
      "  x_i:  2.0\n",
      "  x_{i-1}:  2.0\n",
      "  x_{i+1}:  2.0\n",
      "Iteration:  5\n",
      "  A:  -2.61174078467e-17\n",
      "  B:  -3.63031969069e-15\n",
      "  C:  -1.80210114142e-15\n",
      "  x_i:  2.0\n",
      "  x_{i-1}:  2.0\n",
      "  x_{i+1}:  2.0\n",
      "Iteration:  6\n",
      "  A:  0.0\n",
      "  B:  8.881784197e-16\n",
      "  C:  0.0\n",
      "  x_i:  2.0\n",
      "  x_{i-1}:  2.0\n",
      "  x_{i+1}:  2.0\n",
      "root:  2.0\n"
     ]
    }
   ],
   "source": [
    "x0 = 2.1\n",
    "x1 = 2.01\n",
    "x2 = 1.9\n",
    "\n",
    "print(\"  x_i: \", x0)\n",
    "print(\"  x_{i-1}: \", x1)\n",
    "print(\"  x_{i-2}: \", x2)\n",
    "root = muller(f=f, x2=x2, x1=x1, x0=x0, maxiter=maxiter)\n",
    "print(\"root: \", root)"
   ]
  },
  {
   "cell_type": "markdown",
   "metadata": {},
   "source": [
    "Having found $x=2$ to be our first root, we can can deflate our original polonomal by deviding it out:\n",
    "\n",
    "$$\n",
    "q(x) = \\frac{p(x)}{x - 2} = \\frac{x^3 - 4x^2 + 6x - 4}{x - 2}\n",
    "$$"
   ]
  },
  {
   "cell_type": "code",
   "execution_count": 5,
   "metadata": {},
   "outputs": [
    {
     "name": "stdout",
     "output_type": "stream",
     "text": [
      "quotient:  [ 1. -2.  2.]\n",
      "remainder:  [ 0.]\n"
     ]
    }
   ],
   "source": [
    "x = np.array([1, -4, 6, -4])\n",
    "y = np.array([1, -2])\n",
    "quotient, remainder = np.polydiv(x, y)\n",
    "print(\"quotient: \", quotient)\n",
    "print(\"remainder: \", remainder)"
   ]
  },
  {
   "cell_type": "markdown",
   "metadata": {},
   "source": [
    "We find our next Q after aplying the polynomial division:\n",
    "\n",
    "$$\n",
    "q(x) = x^2 - 2x + 2\n",
    "$$"
   ]
  },
  {
   "cell_type": "code",
   "execution_count": 6,
   "metadata": {},
   "outputs": [],
   "source": [
    "def q1(x):\n",
    "    return x**2 - 2*x + 2"
   ]
  },
  {
   "cell_type": "code",
   "execution_count": 7,
   "metadata": {},
   "outputs": [
    {
     "name": "stdout",
     "output_type": "stream",
     "text": [
      "  x_i:  1j\n",
      "  x_{i-1}:  (1.01+1j)\n",
      "  x_{i-2}:  1\n",
      "Iteration:  0\n",
      "  A:  (1.0097980201979802+1.03019798020198j)\n",
      "  B:  (4.039596040395961+0.04039596040395984j)\n",
      "  C:  (3.0096990300969906-0.96990300969903j)\n",
      "  x_i:  1j\n",
      "  x_{i-1}:  (1.01+1j)\n",
      "  x_{i+1}:  (1+1j)\n",
      "Iteration:  1\n",
      "  A:  (0.00990099009901+0j)\n",
      "  B:  (-6.53231808923e-18+0.019801980198j)\n",
      "  C:  4.3969228698e-18j\n",
      "  x_i:  (1+1j)\n",
      "  x_{i-1}:  1j\n",
      "  x_{i+1}:  (1+1j)\n",
      "Iteration:  2\n",
      "  A:  (4.93038065763e-32+0j)\n",
      "  B:  (4.93038065763e-32-4.4408920985e-16j)\n",
      "  C:  0j\n",
      "  x_i:  (1+1j)\n",
      "  x_{i-1}:  (1+1j)\n",
      "  x_{i+1}:  (1+1j)\n",
      "root:  (1+1j)\n"
     ]
    }
   ],
   "source": [
    "x2= 0 + 1\n",
    "x1= 1j + 1.01\n",
    "x0= 1j + 0\n",
    "\n",
    "\n",
    "print(\"  x_i: \", x0)\n",
    "print(\"  x_{i-1}: \", x1)\n",
    "print(\"  x_{i-2}: \", x2)\n",
    "root = muller(f=q1, x2=x2, x1=x1, x0=x0, maxiter=maxiter)\n",
    "print(\"root: \", root)"
   ]
  },
  {
   "cell_type": "markdown",
   "metadata": {},
   "source": [
    "Now we have found $x=1+1j$ as our next root, and because we know complex roots always have a complex conjugate, we know $x=1-1j$ to be the other root as well. Thus we know all three roots have been found. Just to check our work, we can test this against numpy's own root finding function, by providing it the same coefficients for $p(x)$ as see this matchs."
   ]
  },
  {
   "cell_type": "code",
   "execution_count": 8,
   "metadata": {},
   "outputs": [
    {
     "name": "stdout",
     "output_type": "stream",
     "text": [
      "numpy_roots:  [ 2.+0.j  1.+1.j  1.-1.j]\n"
     ]
    }
   ],
   "source": [
    "coeff = [1, -4, 6, -4]\n",
    "numpy_roots = np.roots(coeff)\n",
    "print(\"numpy_roots: \", numpy_roots)"
   ]
  },
  {
   "cell_type": "markdown",
   "metadata": {},
   "source": [
    "## 3.\n",
    "\n",
    "> Suppose you wish to build an interpolation table with entries of the form $(x, f(x))$ for the function $f(x) = sin(x)$ over the interval $[0, \\pi]$. Please use uniform spacing between points.\n",
    "\n",
    "* How fine must the table spacing be in order to ensure 6 decimal digit accuracy, assuming that you will use linear interpolation between adjacent points in the table?\n",
    "* How fine must it be if you will use quadratic interpolation?\n",
    "* In each case, how many entries do you need in the table?"
   ]
  },
  {
   "cell_type": "code",
   "execution_count": 9,
   "metadata": {},
   "outputs": [],
   "source": [
    "import numpy as np\n",
    "from scipy import interpolate"
   ]
  },
  {
   "cell_type": "code",
   "execution_count": 10,
   "metadata": {},
   "outputs": [
    {
     "data": {
      "text/plain": [
       "4.7220041716755645e-06"
      ]
     },
     "execution_count": 10,
     "metadata": {},
     "output_type": "execute_result"
    }
   ],
   "source": [
    "x = np.linspace(0, 2*np.pi, 1000)\n",
    "y = np.sin(x)\n",
    "xvals = np.linspace(0, 2*np.pi, 50)\n",
    "yinterp = np.interp(xvals, x, y)\n",
    "yvals = np.sin(xvals)\n",
    "max_error = np.max(np.abs(yinterp - yvals))\n",
    "max_error"
   ]
  },
  {
   "cell_type": "code",
   "execution_count": 11,
   "metadata": {},
   "outputs": [
    {
     "data": {
      "text/plain": [
       "1.1850615742048376e-06"
      ]
     },
     "execution_count": 11,
     "metadata": {},
     "output_type": "execute_result"
    }
   ],
   "source": [
    "x = np.linspace(0, 2*np.pi, 100)\n",
    "y = np.sin(x)\n",
    "xvals = np.linspace(0, 2*np.pi, 50)\n",
    "# f = interpolate.interp1d(x, y, kind='linear')\n",
    "f = interpolate.interp1d(x, y, kind='quadratic')\n",
    "yinterp = f(xvals)\n",
    "yvals = np.sin(xvals)\n",
    "max_error = np.max(np.abs(yinterp - yvals))\n",
    "max_error"
   ]
  },
  {
   "cell_type": "code",
   "execution_count": 12,
   "metadata": {},
   "outputs": [
    {
     "data": {
      "text/plain": [
       "True"
      ]
     },
     "execution_count": 12,
     "metadata": {},
     "output_type": "execute_result"
    }
   ],
   "source": [
    "max_error < 10e-6"
   ]
  },
  {
   "cell_type": "code",
   "execution_count": 13,
   "metadata": {},
   "outputs": [],
   "source": [
    "nums = np.linspace(10, 10000, 100, dtype=int)\n",
    "max_errors = np.array([])\n",
    "for num in nums:\n",
    "    x = np.linspace(0, 2*np.pi, num=num)\n",
    "    y = np.sin(x)\n",
    "    xvals = np.linspace(0, 2*np.pi, 10000)\n",
    "    f = interpolate.interp1d(x, y, kind='linear')\n",
    "#     f = interpolate.interp1d(x, y, kind='quadratic')\n",
    "    yinterp = f(xvals)\n",
    "    yvals = np.sin(xvals)\n",
    "    max_error = np.max(np.abs(yinterp - yvals))\n",
    "    max_errors = np.append(max_errors, max_error)"
   ]
  },
  {
   "cell_type": "code",
   "execution_count": 14,
   "metadata": {},
   "outputs": [
    {
     "data": {
      "text/plain": [
       "[<matplotlib.lines.Line2D at 0x7f7a515f7ac8>]"
      ]
     },
     "execution_count": 14,
     "metadata": {},
     "output_type": "execute_result"
    },
    {
     "data": {
      "image/png": "[encoded data removed]",
      "text/plain": [
       "<matplotlib.figure.Figure at 0x7f7a5160f5c0>"
      ]
     },
     "metadata": {},
     "output_type": "display_data"
    }
   ],
   "source": [
    "plt.semilogy(nums, max_errors)\n",
    "plt.semilogy(nums, np.ones(max_errors.size)*1e-7)"
   ]
  },
  {
   "cell_type": "code",
   "execution_count": 15,
   "metadata": {},
   "outputs": [],
   "source": [
    "nums = np.linspace(10, 1000, 100, dtype=int)\n",
    "max_errors = np.array([])\n",
    "for num in nums:\n",
    "    x = np.linspace(0, 2*np.pi, num=num)\n",
    "    y = np.sin(x)\n",
    "    xvals = np.linspace(0, 2*np.pi, 10000)\n",
    "#     f = interpolate.interp1d(x, y, kind='linear')\n",
    "    f = interpolate.interp1d(x, y, kind='quadratic')\n",
    "    yinterp = f(xvals)\n",
    "    yvals = np.sin(xvals)\n",
    "    max_error = np.max(np.abs(yinterp - yvals))\n",
    "    max_errors = np.append(max_errors, max_error)"
   ]
  },
  {
   "cell_type": "code",
   "execution_count": 16,
   "metadata": {},
   "outputs": [
    {
     "data": {
      "text/plain": [
       "[<matplotlib.lines.Line2D at 0x7f7a5121c208>]"
      ]
     },
     "execution_count": 16,
     "metadata": {},
     "output_type": "execute_result"
    },
    {
     "data": {
      "image/png": "[encoded data removed]",
      "text/plain": [
       "<matplotlib.figure.Figure at 0x7f7a511fe048>"
      ]
     },
     "metadata": {},
     "output_type": "display_data"
    }
   ],
   "source": [
    "plt.semilogy(nums, max_errors)\n",
    "plt.semilogy(nums, np.ones(max_errors.size)*1e-7)"
   ]
  },
  {
   "cell_type": "code",
   "execution_count": 17,
   "metadata": {},
   "outputs": [],
   "source": [
    "max_errors = np.array([])\n"
   ]
  },
  {
   "cell_type": "code",
   "execution_count": 18,
   "metadata": {},
   "outputs": [
    {
     "data": {
      "text/plain": [
       "1e-07"
      ]
     },
     "execution_count": 18,
     "metadata": {},
     "output_type": "execute_result"
    }
   ],
   "source": [
    "0.0000001"
   ]
  },
  {
   "cell_type": "code",
   "execution_count": 19,
   "metadata": {},
   "outputs": [
    {
     "data": {
      "text/plain": [
       "1e-05"
      ]
     },
     "execution_count": 19,
     "metadata": {},
     "output_type": "execute_result"
    }
   ],
   "source": [
    "10e-6"
   ]
  },
  {
   "cell_type": "markdown",
   "metadata": {},
   "source": [
    "## 4.\n",
    "> Implement Newton's Method. Consider the following equation:\n",
    "> $$x = tan(x)$$\n",
    "> There are an infinite number of solutions $x$ to this equation. Use Newton's method (and any techniques you need to start Newton in regions of convergence) to find the two solutions that are closest to 5."
   ]
  },
  {
   "cell_type": "markdown",
   "metadata": {},
   "source": [
    "Given we know that $tan(x) = \\frac{sin(x)}{cos(x)}$, we can see that $f(x) = tan(x) - x$ will be undifined for periodicity of $k \\cdot \\pi + \\frac{\\pi}{2}, k \\in \\mathbb{N}$. Additionally, we can decern the direvitive to be $f'(x) = sec^2(x) = \\frac{1}{cos^2(x)}$.\n",
    "\n",
    "Thus we can use the three closest singulatiesties to bracket the two intervals containing the two closest roots to 5. We can see the two closet intervals to be $[0 \\cdot \\pi + \\frac{\\pi}{2}, 1 \\cdot \\pi + \\frac{\\pi}{2}]$, and $[1 \\cdot \\pi + \\frac{\\pi}{2}, 2 \\cdot \\pi + \\frac{\\pi}{2}]$."
   ]
  },
  {
   "cell_type": "code",
   "execution_count": 20,
   "metadata": {},
   "outputs": [],
   "source": [
    "from scipy import optimize\n",
    "import numpy as np\n",
    "\n",
    "def f(x):\n",
    "    return np.tan(x) - x\n",
    "\n",
    "def fprime(x):\n",
    "    return (1 / (np.cos(x)**2))\n",
    "\n",
    "maxiter = 50\n",
    "xacc = 1e-2\n",
    "tol = 1.48e-08"
   ]
  },
  {
   "cell_type": "markdown",
   "metadata": {},
   "source": [
    "For this task, we will narrow down the region of convergance by using bisection. This is gaernted to get us arbitrarily close to the root for regions where the function is continious. This is helpful for sharply discontious trigmaetric functions, as we can provide Newton's Method an accurate innital guess to help ensure convergance."
   ]
  },
  {
   "cell_type": "code",
   "execution_count": 21,
   "metadata": {},
   "outputs": [],
   "source": [
    "def root_bisection(f, x1, x2, maxiter, xacc):\n",
    "    \"\"\"\n",
    "    Adapted from Numerical Recipes\n",
    "    \"\"\"\n",
    "    fx1 = f(x1)\n",
    "    fx2 = f(x2)\n",
    "    # Check that root is bracketed\n",
    "    if (fx1 * fx2 >= 0):\n",
    "        raise(\"Root must be bracketed for bisection in rtbis\")\n",
    "\n",
    "    # Orient the search so that fx1 > 0 lies at x+dx.\n",
    "    if fx1 < 0:\n",
    "        dx = x2 - x1\n",
    "        rtb = x1 \n",
    "    else:\n",
    "        dx = x1 - x2\n",
    "        rtb = x2\n",
    "\n",
    "    # Bisection loop.\n",
    "    for i in range(maxiter):\n",
    "        print(\"Bisection: \", i)\n",
    "        dx = dx / 2\n",
    "        xmid = rtb + dx\n",
    "        print(\"  xmid: \", xmid)\n",
    "        fmid = f(xmid)\n",
    "        print(\"  fmid: \", fmid)\n",
    "        if (fmid <= 0):\n",
    "            rtb=xmid\n",
    "        if (abs(dx) < xacc) or (fmid == 0):\n",
    "            return rtb\n",
    "    \n",
    "    # Didn't reach target interval of size\n",
    "    raise(\"Not enough bisections needed to reach xacc\")"
   ]
  },
  {
   "cell_type": "markdown",
   "metadata": {},
   "source": [
    "We'll also adjust our initial bounds inward into the region by a factor of a small $\\alpha$, to help ensure our starting points are nuericaly stable. E.g. $x1 = 0 \\cdot \\pi + \\frac{\\pi}{2} + \\alpha$ and $x2 = 1 \\cdot \\pi + \\frac{\\pi}{2} - \\alpha$"
   ]
  },
  {
   "cell_type": "code",
   "execution_count": 22,
   "metadata": {},
   "outputs": [
    {
     "name": "stdout",
     "output_type": "stream",
     "text": [
      "alpha:  1e-09\n",
      "x1:  1.5707963277948966\n",
      "x2:  4.71238897938469\n",
      "f(x1):  -999999980.063\n",
      "f(x2):  999999728.85\n"
     ]
    }
   ],
   "source": [
    "alpha = 1e-9\n",
    "\n",
    "x1 = 0 * np.pi + np.pi/2 + alpha\n",
    "x2 = 1 * np.pi + np.pi/2 - alpha\n",
    "\n",
    "\n",
    "print(\"alpha: \", alpha)\n",
    "print(\"x1: \", x1)\n",
    "print(\"x2: \", x2)\n",
    "print(\"f(x1): \", f(x1))\n",
    "print(\"f(x2): \", f(x2))"
   ]
  },
  {
   "cell_type": "code",
   "execution_count": 23,
   "metadata": {},
   "outputs": [
    {
     "name": "stdout",
     "output_type": "stream",
     "text": [
      "Bisection:  0\n",
      "  xmid:  3.141592653589793\n",
      "  fmid:  -3.14159265359\n",
      "Bisection:  1\n",
      "  xmid:  3.9269908164872414\n",
      "  fmid:  -2.92699081749\n",
      "Bisection:  2\n",
      "  xmid:  4.319689897935966\n",
      "  fmid:  -1.90547634068\n",
      "Bisection:  3\n",
      "  xmid:  4.516039438660328\n",
      "  fmid:  0.511300030476\n",
      "Bisection:  4\n",
      "  xmid:  4.417864668298147\n",
      "  fmid:  -1.121306469\n",
      "Bisection:  5\n",
      "  xmid:  4.466952053479238\n",
      "  fmid:  -0.474728284\n",
      "Bisection:  6\n",
      "  xmid:  4.491495746069783\n",
      "  fmid:  -0.038293539557\n",
      "Bisection:  7\n",
      "  xmid:  4.5037675923650555\n",
      "  fmid:  0.219861715301\n",
      "Bisection:  8\n",
      "  xmid:  4.497631669217419\n",
      "  fmid:  0.0869803711173\n"
     ]
    }
   ],
   "source": [
    "_x0 = root_bisection(f=f, x1=x1, x2=x2, maxiter=maxiter, xacc=xacc)"
   ]
  },
  {
   "cell_type": "markdown",
   "metadata": {},
   "source": [
    "We can see the bisection method has zeroed down quite quickly to an intial estiment that is within a braket only $10^{-3}$ wide in only a few iterations."
   ]
  },
  {
   "cell_type": "code",
   "execution_count": 24,
   "metadata": {},
   "outputs": [],
   "source": [
    "def newton(func, x0, fprime, tol, maxiter):\n",
    "    dx = abs(func(x0))\n",
    "    for i in range(maxiter):\n",
    "        print(\"Iteration: \", i)\n",
    "        x0 = x0 - (func(x0) / fprime(x0))\n",
    "        print(\"  x0: \", x0)\n",
    "        dx = abs(func(x0))\n",
    "        print(\"  dx: \", dx)\n",
    "        if dx <= tol:\n",
    "            return x0"
   ]
  },
  {
   "cell_type": "code",
   "execution_count": 25,
   "metadata": {},
   "outputs": [
    {
     "name": "stdout",
     "output_type": "stream",
     "text": [
      "Iteration:  0\n",
      "  x0:  4.49333404098\n",
      "  dx:  0.00152218125895\n",
      "Iteration:  1\n",
      "  x0:  4.49340592209\n",
      "  dx:  7.13894724633e-05\n",
      "Iteration:  2\n",
      "  x0:  4.4934092911\n",
      "  dx:  3.3679276088e-06\n",
      "Iteration:  3\n",
      "  x0:  4.49340945004\n",
      "  dx:  1.58931849015e-07\n",
      "Iteration:  4\n",
      "  x0:  4.49340945754\n",
      "  dx:  7.50006901029e-09\n",
      "x0_newtom:  4.49340945754\n"
     ]
    }
   ],
   "source": [
    "x0_newtom = newton(func=f, x0=_x0, fprime=fprime, tol=tol, maxiter=maxiter)\n",
    "print(\"x0_newtom: \", x0_newtom)"
   ]
  },
  {
   "cell_type": "markdown",
   "metadata": {},
   "source": [
    "To compare our simple newtons methods above, we can check agianst numpy's own newton and Brent's (1973) method, where Brent's method is generally considered the best of the rootfinding routines in numpy, as it combines root bracketing, interval bisection, and inverse quadratic interpolation."
   ]
  },
  {
   "cell_type": "code",
   "execution_count": 26,
   "metadata": {},
   "outputs": [
    {
     "name": "stdout",
     "output_type": "stream",
     "text": [
      "x0_numpy_newton:  4.49340945754\n"
     ]
    }
   ],
   "source": [
    "x0_numpy_newton = optimize.newton(func=f, x0=_x0, fprime=fprime, tol=tol, maxiter=maxiter)\n",
    "print(\"x0_numpy_newton: \", x0_numpy_newton)"
   ]
  },
  {
   "cell_type": "code",
   "execution_count": 27,
   "metadata": {},
   "outputs": [
    {
     "name": "stdout",
     "output_type": "stream",
     "text": [
      "x0_numpy_brentq:  4.493409457909064\n"
     ]
    }
   ],
   "source": [
    "x0_numpy_brentq = optimize.brentq(f=f, a=x1, b=x2)\n",
    "print(\"x0_numpy_brentq: \", x0_numpy_brentq)"
   ]
  },
  {
   "cell_type": "markdown",
   "metadata": {},
   "source": [
    "We find all three methods return identical roots. Now lets check the second closest root."
   ]
  },
  {
   "cell_type": "code",
   "execution_count": 28,
   "metadata": {},
   "outputs": [
    {
     "name": "stdout",
     "output_type": "stream",
     "text": [
      "alpha:  1e-09\n",
      "x1:  4.71238898138469\n",
      "x2:  7.853981632974483\n",
      "f(x1):  -1000000105.67\n",
      "f(x2):  999999603.244\n"
     ]
    }
   ],
   "source": [
    "x1 = 1 * np.pi + np.pi/2 + alpha\n",
    "x2 = 2 * np.pi + np.pi/2 - alpha\n",
    "\n",
    "\n",
    "print(\"alpha: \", alpha)\n",
    "print(\"x1: \", x1)\n",
    "print(\"x2: \", x2)\n",
    "print(\"f(x1): \", f(x1))\n",
    "print(\"f(x2): \", f(x2))"
   ]
  },
  {
   "cell_type": "code",
   "execution_count": 29,
   "metadata": {},
   "outputs": [
    {
     "name": "stdout",
     "output_type": "stream",
     "text": [
      "Bisection:  0\n",
      "  xmid:  6.283185307179586\n",
      "  fmid:  -6.28318530718\n",
      "Bisection:  1\n",
      "  xmid:  7.0685834700770345\n",
      "  fmid:  -6.06858347108\n",
      "Bisection:  2\n",
      "  xmid:  7.461282551525759\n",
      "  fmid:  -5.04706899427\n",
      "Bisection:  3\n",
      "  xmid:  7.657632092250121\n",
      "  fmid:  -2.63029262311\n",
      "Bisection:  4\n",
      "  xmid:  7.755806862612302\n",
      "  fmid:  2.39736342742\n",
      "Bisection:  5\n",
      "  xmid:  7.7067194774312116\n",
      "  fmid:  -0.965267114109\n",
      "Bisection:  6\n",
      "  xmid:  7.731263170021757\n",
      "  fmid:  0.376522572133\n",
      "Bisection:  7\n",
      "  xmid:  7.718991323726484\n",
      "  fmid:  -0.35610373287\n",
      "Bisection:  8\n",
      "  xmid:  7.72512724687412\n",
      "  fmid:  -0.00742820523835\n"
     ]
    }
   ],
   "source": [
    "_x0 = root_bisection(f=f, x1=x1, x2=x2, maxiter=maxiter, xacc=xacc)"
   ]
  },
  {
   "cell_type": "code",
   "execution_count": 30,
   "metadata": {},
   "outputs": [
    {
     "name": "stdout",
     "output_type": "stream",
     "text": [
      "Iteration:  0\n",
      "  x0:  7.72524989965\n",
      "  dx:  0.000115614559031\n",
      "Iteration:  1\n",
      "  x0:  7.72525180504\n",
      "  dx:  1.90368615183e-06\n",
      "Iteration:  2\n",
      "  x0:  7.72525183641\n",
      "  dx:  3.13723473866e-08\n",
      "Iteration:  3\n",
      "  x0:  7.72525183693\n",
      "  dx:  5.16990894539e-10\n",
      "x0_newtom:  7.72525183693\n"
     ]
    }
   ],
   "source": [
    "x0_newtom = newton(func=f, x0=_x0, fprime=fprime, tol=tol, maxiter=maxiter)\n",
    "print(\"x0_newtom: \", x0_newtom)"
   ]
  },
  {
   "cell_type": "code",
   "execution_count": 31,
   "metadata": {},
   "outputs": [
    {
     "name": "stdout",
     "output_type": "stream",
     "text": [
      "x0_numpy_newton:  7.72525183693\n"
     ]
    }
   ],
   "source": [
    "x0_numpy_newton = optimize.newton(func=f, x0=_x0, fprime=fprime, tol=tol, maxiter=maxiter)\n",
    "print(\"x0_numpy_newton: \", x0_numpy_newton)"
   ]
  },
  {
   "cell_type": "code",
   "execution_count": 32,
   "metadata": {},
   "outputs": [
    {
     "name": "stdout",
     "output_type": "stream",
     "text": [
      "x0_numpy_brentq:  7.725251836937708\n"
     ]
    }
   ],
   "source": [
    "x0_numpy_brentq = optimize.brentq(f=f, a=x1, b=x2)\n",
    "print(\"x0_numpy_brentq: \", x0_numpy_brentq)"
   ]
  },
  {
   "cell_type": "markdown",
   "metadata": {},
   "source": [
    "Agian, we find simalart roots with all three methods, demostrating the propper function of our bisection and newtons mehtod implementations."
   ]
  }
 ],
 "metadata": {
  "kernelspec": {
   "display_name": "Python [conda root]",
   "language": "python",
   "name": "conda-root-py"
  },
  "language_info": {
   "codemirror_mode": {
    "name": "ipython",
    "version": 3
   },
   "file_extension": ".py",
   "mimetype": "text/x-python",
   "name": "python",
   "nbconvert_exporter": "python",
   "pygments_lexer": "ipython3",
   "version": "3.5.4"
  }
 },
 "nbformat": 4,
 "nbformat_minor": 2
}
