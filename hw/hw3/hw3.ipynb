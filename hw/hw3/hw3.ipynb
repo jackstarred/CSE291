{
 "cells": [
  {
   "cell_type": "markdown",
   "metadata": {},
   "source": [
    "# HW3 : Math for Robotics"
   ]
  },
  {
   "cell_type": "markdown",
   "metadata": {},
   "source": [
    "Author: Ruffin White  \n",
    "Course: CSE291  \n",
    "Date: Feb 23 2018"
   ]
  },
  {
   "cell_type": "code",
   "execution_count": 1,
   "metadata": {},
   "outputs": [],
   "source": [
    "# Make plots inline\n",
    "%matplotlib inline\n",
    "\n",
    "# Make inline plots vector graphics instead of raster graphics\n",
    "from IPython.display import set_matplotlib_formats\n",
    "# set_matplotlib_formats('pdf', 'svg')\n",
    "# set_matplotlib_formats('png', 'pdf')\n",
    "set_matplotlib_formats('png')\n",
    "\n",
    "# import modules for plotting and data analysis\n",
    "import matplotlib.pyplot as plt"
   ]
  },
  {
   "cell_type": "markdown",
   "metadata": {},
   "source": [
    "## 1. \n",
    "\n",
    "> Consider the following differential equation over the interval $(0,1]$:\n",
    "\n",
    "$$\n",
    "\\frac{dy}{dx} = \\frac{1}{x^2(1-y)}\n",
    "$$\n",
    "\n",
    "with $y(1)=-1$\n",
    "\n",
    "* Obtain an exact analytical solution to the equation. In the following solve for $y(0)$ even though in theory the equation is not defined for $x=0$.\n",
    "* Implement and use Eulers method to solve the differential equation numerically. Use a step size of $0.05$. How accurate is your numerical solution?\n",
    "* Implement and use a fourth-order Runge-Kutta method to solve the differential equation numerically. Again, use a step size of $0.05$. Again, how accurate is your numerical solution?\n",
    "* Implement and use a Richardson extrapolation to solve the equation, again with a step size of $0.05$. How accuracy is your solution compared to the analytical solution?"
   ]
  },
  {
   "cell_type": "code",
   "execution_count": 2,
   "metadata": {},
   "outputs": [],
   "source": [
    "import re\n",
    "import numpy as np\n",
    "\n",
    "from scipy.integrate import ode\n",
    "from scipy.integrate._ode import IntegratorBase"
   ]
  },
  {
   "cell_type": "code",
   "execution_count": 3,
   "metadata": {},
   "outputs": [],
   "source": [
    "class MyIntegratorBase(IntegratorBase):\n",
    "    def run(self, f, jac, y0, t0, t1, f_params, jac_params):\n",
    "        y1, t, istate = self.runner(f, jac, y0, t0, t1, f_params, jac_params)\n",
    "        self.istate = istate\n",
    "        if istate < 0:\n",
    "            unexpected_istate_msg = 'Unexpected istate={:d}'.format(istate)\n",
    "            warnings.warn('{:s}: {:s}'.format(self.__class__.__name__,\n",
    "                          self.messages.get(istate, unexpected_istate_msg)))\n",
    "            self.success = 0\n",
    "        return y1, t\n",
    "\n",
    "def find_integrator(name):\n",
    "    for cl in integrator_classes:\n",
    "        if re.match(name, cl.__name__, re.I):\n",
    "            return cl\n",
    "    return None\n",
    "\n",
    "class my_ode(ode):\n",
    "    def set_integrator(self, name, **integrator_params):\n",
    "        \"\"\"\n",
    "        Set integrator by name.\n",
    "        Parameters\n",
    "        ----------\n",
    "        name : str\n",
    "            Name of the integrator.\n",
    "        integrator_params\n",
    "            Additional parameters for the integrator.\n",
    "        \"\"\"\n",
    "        integrator = find_integrator(name)\n",
    "        if integrator is None:\n",
    "            raise ValueError('No integrator name match with %r or is not available.' % name)\n",
    "        else:\n",
    "            self._integrator = integrator(**integrator_params)\n",
    "            if not len(self._y):\n",
    "                self.t = 0.0\n",
    "                self._y = np.array([0.0], self._integrator.scalar)\n",
    "            self._integrator.reset(len(self._y), self.jac is not None)\n",
    "        return self"
   ]
  },
  {
   "cell_type": "code",
   "execution_count": 4,
   "metadata": {},
   "outputs": [],
   "source": [
    "class euler(MyIntegratorBase):\n",
    "    def __init__(self, **integrator_params):\n",
    "        self.success = 1\n",
    "        pass\n",
    "    \n",
    "    def runner(self, f, jac, y0, t0, t1, f_params, jac_params):\n",
    "        y1 = y0 + jac(t0, y0, *jac_params) * (t1 - t0)\n",
    "        \n",
    "        istate = 0\n",
    "        return y1, t1, istate\n",
    "\n",
    "class rungekutta4(MyIntegratorBase):\n",
    "    def __init__(self, **integrator_params):\n",
    "        self.success = 1\n",
    "        pass\n",
    "    \n",
    "    def runner(self, f, jac, y0, t0, t1, f_params, jac_params):\n",
    "        h = t1-t0\n",
    "        k_1 = jac((t0        ), (y0            ), *jac_params)\n",
    "        k_2 = jac((t0 + 0.5*h), (y0 + 0.5*h*k_1), *jac_params)\n",
    "        k_3 = jac((t0 + 0.5*h), (y0 + 0.5*h*k_2), *jac_params)\n",
    "        k_4 = jac((t0 +     h), (y0 +     h*k_3), *jac_params)\n",
    "        y1 = y0 + (h/6)*(k_1 + 2*k_2 + 2*k_3 + k_4)\n",
    "        \n",
    "        istate = 0\n",
    "        return y1, t1, istate\n",
    "\n",
    "class richardson(MyIntegratorBase):\n",
    "    def __init__(self, **integrator_params):\n",
    "        self.success = 1\n",
    "        pass\n",
    "    \n",
    "    def runner(self, f, jac, y0, t0, t1, f_params, jac_params):\n",
    "        # richardson extrapolation  \n",
    "        # http://www.math.ubc.ca/~feldman/m256/richard.pdf\n",
    "        istate = 0\n",
    "        return y1, t1, istate\n",
    "\n",
    "integrator_classes = [euler, rungekutta4, richardson]"
   ]
  },
  {
   "cell_type": "code",
   "execution_count": 5,
   "metadata": {},
   "outputs": [],
   "source": [
    "# https://www.khanacademy.org/math/ap-calculus-bc/bc-diff-equations/bc-eulers-method/v/eulers-method\n",
    "\n",
    "y0, t0 = 1 , 0\n",
    "# y0, t0 = -1 , 1\n",
    "\n",
    "def f(t, y, arg1):\n",
    "    return np.e**t\n",
    "#     return 1 / (t * (y - 1))\n",
    "def jac(t, y, arg1):\n",
    "    return y\n",
    "#     return 1 / (t**2 * (1 - y))\n",
    "\n",
    "t1 = 1\n",
    "# t1 = 0\n",
    "dt = 0.0005"
   ]
  },
  {
   "cell_type": "code",
   "execution_count": 6,
   "metadata": {},
   "outputs": [
    {
     "name": "stdout",
     "output_type": "stream",
     "text": [
      "t: 1.0004999999999453, y: [ 2.71896137]\n"
     ]
    }
   ],
   "source": [
    "r = my_ode(f, jac).set_integrator(name='euler')\n",
    "r.set_initial_value(y0, t0).set_f_params(None).set_jac_params(None)\n",
    "\n",
    "while r.successful() and r.t < t1:\n",
    "    t = r.t+dt\n",
    "    y = r.integrate(t)\n",
    "\n",
    "print(\"t: {0}, y: {1}\".format(t, y))"
   ]
  },
  {
   "cell_type": "code",
   "execution_count": 7,
   "metadata": {},
   "outputs": [
    {
     "name": "stdout",
     "output_type": "stream",
     "text": [
      "t: 1.0004999999999453, y: [ 2.71964131]\n"
     ]
    }
   ],
   "source": [
    "r = my_ode(f, jac).set_integrator(name='rungekutta4')\n",
    "r.set_initial_value(y0, t0).set_f_params(None).set_jac_params(None)\n",
    "\n",
    "while r.successful() and r.t < t1:\n",
    "    t = r.t+dt\n",
    "    y = r.integrate(t)\n",
    "\n",
    "print(\"t: {0}, y: {1}\".format(t, y))"
   ]
  },
  {
   "cell_type": "code",
   "execution_count": 8,
   "metadata": {},
   "outputs": [
    {
     "name": "stdout",
     "output_type": "stream",
     "text": [
      "t: 1.0004999999999453, y: [ 2.71964131]\n"
     ]
    }
   ],
   "source": [
    "r = ode(f, jac).set_integrator(name='dopri5', method='adams', nsteps=10e4)\n",
    "r.set_initial_value(y0, t0).set_f_params(None).set_jac_params(None)\n",
    "\n",
    "while r.successful() and r.t < t1:\n",
    "    t = r.t+dt\n",
    "    y = r.integrate(t)\n",
    "\n",
    "print(\"t: {0}, y: {1}\".format(t, y))"
   ]
  },
  {
   "cell_type": "code",
   "execution_count": null,
   "metadata": {},
   "outputs": [],
   "source": []
  },
  {
   "cell_type": "markdown",
   "metadata": {},
   "source": [
    "## 2.\n",
    "\n",
    "> Consider a predator-prey dynamics such as the simple Lotka-Volterra model\n",
    "\n",
    "$$\n",
    "x' = f(x)\n",
    "$$\n",
    "\n",
    "$$\n",
    "x = \n",
    "\\begin{pmatrix}\n",
    "  x_1 \\\\\n",
    "  x_2 \\\\\n",
    "\\end{pmatrix} =\n",
    "\\begin{pmatrix}\n",
    "  Prey polution \\\\\n",
    "  Predator Polution \\\\\n",
    "\\end{pmatrix}    \n",
    "$$\n",
    "\n",
    "$$\n",
    "f(x) = \n",
    "\\begin{pmatrix}\n",
    "  (b-px_2)x_1 \\\\\n",
    "  (rx_1 - d)x_2 \\\\\n",
    "\\end{pmatrix}   \n",
    "$$\n",
    "\n",
    "> Without predators, the prey population increases (exponentially) without bound, whereas without prey, the predator population diminishes (exponentially) to zero. The nonlinear interaction, with predators eating prey, tends to diminish the prey population and increase the predator population. Use your Runga-Kutta to solve this system, with the values $b = p = r = d = 1$, $x_1(0) = 0.3$, and $x_2(0) = 0.2$."
   ]
  },
  {
   "cell_type": "code",
   "execution_count": 9,
   "metadata": {},
   "outputs": [],
   "source": [
    "# http://scipy-cookbook.readthedocs.io/items/LoktaVolterraTutorial.html\n",
    "y0, t0 = np.array([[0.3], [0.2]]), 0\n",
    "\n",
    "b1 = 1\n",
    "p1 = 1\n",
    "r1 = 1\n",
    "d1 = 1\n",
    "\n",
    "def f(t, y, arg1):\n",
    "    return 'foo'\n",
    "\n",
    "def jac(t, y, b1, p1, r1, d1):\n",
    "    y = np.array([(b1 - p1*y[1])*y[0],\n",
    "                  (r1*y[0] - d1)*y[1]])\n",
    "    return y\n",
    "\n",
    "t1 = 15\n",
    "dt = 0.0005"
   ]
  },
  {
   "cell_type": "code",
   "execution_count": 10,
   "metadata": {},
   "outputs": [],
   "source": [
    "r = my_ode(f, jac).set_integrator(name='rungekutta4')\n",
    "r.set_initial_value(y0, t0).set_f_params(None).set_jac_params(b1, p1, r1, d1)\n",
    "\n",
    "ts = np.array([1])\n",
    "ys = np.empty([2,1])\n",
    "\n",
    "while r.successful() and r.t < t1:\n",
    "    t = r.t+dt\n",
    "    y = r.integrate(t)\n",
    "    ts = np.append(ts, t)\n",
    "    ys = np.append(ys, y, axis=1)"
   ]
  },
  {
   "cell_type": "code",
   "execution_count": 11,
   "metadata": {},
   "outputs": [
    {
     "data": {
      "image/png": "[encoded data removed]",
      "text/plain": [
       "<matplotlib.figure.Figure at 0x7f5ab1244320>"
      ]
     },
     "metadata": {},
     "output_type": "display_data"
    }
   ],
   "source": [
    "plt.plot(ts, ys.T)\n",
    "plt.show()"
   ]
  },
  {
   "cell_type": "markdown",
   "metadata": {},
   "source": [
    "## 3.\n",
    "\n",
    "> We have multiple robots that can generate point clouds such as those coming from a Kinect camera. In many cases we want to use the robots to detect objects in its enviroment. We provide three data files:\n",
    "\n",
    "(a) Empty-Table.txt which containts a data for an empty table  \n",
    "(b) Cluttered-Table.txt contains point cloud for a cluttered table  \n",
    "(c) Hallway.txt  \n",
    "\n",
    "> Each file has the point cloud file in a format with each line contains $x_i y_i z_i$\n",
    "\n",
    "* Provide a method to estimate the plane parameter for the table. Test it both with the empty and cluttered table. Describe how you filter out the data from the objects. You have to be able to estimate the table parameters in the presence of clutter.\n",
    "* Describe and show how the method can be generalized to extract all the dominant planes in a relatively empty hallway."
   ]
  },
  {
   "cell_type": "code",
   "execution_count": null,
   "metadata": {},
   "outputs": [],
   "source": []
  }
 ],
 "metadata": {
  "kernelspec": {
   "display_name": "Python [conda root]",
   "language": "python",
   "name": "conda-root-py"
  },
  "language_info": {
   "codemirror_mode": {
    "name": "ipython",
    "version": 3
   },
   "file_extension": ".py",
   "mimetype": "text/x-python",
   "name": "python",
   "nbconvert_exporter": "python",
   "pygments_lexer": "ipython3",
   "version": "3.5.4"
  }
 },
 "nbformat": 4,
 "nbformat_minor": 2
}
