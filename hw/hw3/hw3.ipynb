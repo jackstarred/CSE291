{
 "cells": [
  {
   "cell_type": "markdown",
   "metadata": {},
   "source": [
    "# HW3 : Math for Robotics"
   ]
  },
  {
   "cell_type": "markdown",
   "metadata": {},
   "source": [
    "Author: Ruffin White  \n",
    "Course: CSE291  \n",
    "Date: Feb 23 2018"
   ]
  },
  {
   "cell_type": "code",
   "execution_count": 1,
   "metadata": {},
   "outputs": [],
   "source": [
    "# Make plots inline\n",
    "%matplotlib inline\n",
    "\n",
    "# Make inline plots vector graphics instead of raster graphics\n",
    "from IPython.display import set_matplotlib_formats\n",
    "# set_matplotlib_formats('pdf', 'svg')\n",
    "set_matplotlib_formats('png', 'pdf')\n",
    "# set_matplotlib_formats('png')\n",
    "\n",
    "# import modules for plotting and data analysis\n",
    "import matplotlib.pyplot as plt"
   ]
  },
  {
   "cell_type": "markdown",
   "metadata": {},
   "source": [
    "## 1. \n",
    "\n",
    "> Consider the following differential equation over the interval $(0,1]$:\n",
    "\n",
    "$$\n",
    "\\frac{dy}{dx} = \\frac{1}{x^2(1-y)}\n",
    "$$\n",
    "\n",
    "with $y(1)=-1$\n",
    "\n",
    "* Obtain an exact analytical solution to the equation. In the following solve for $y(0)$ even though in theory the equation is not defined for $x=0$.\n",
    "* Implement and use Eulers method to solve the differential equation numerically. Use a step size of $0.05$. How accurate is your numerical solution?\n",
    "* Implement and use a fourth-order Runge-Kutta method to solve the differential equation numerically. Again, use a step size of $0.05$. Again, how accurate is your numerical solution?\n",
    "* Implement and use a Richardson extrapolation to solve the equation, again with a step size of $0.05$. How accuracy is your solution compared to the analytical solution?"
   ]
  },
  {
   "cell_type": "markdown",
   "metadata": {},
   "source": [
    "## 2.\n",
    "\n",
    "> Consider a predator-prey dynamics such as the simple Lotka-Volterra model\n",
    "\n",
    "$$\n",
    "x' = f(x)\n",
    "$$\n",
    "\n",
    "$$\n",
    "x = \n",
    "\\begin{pmatrix}\n",
    "  x_1 \\\\\n",
    "  x_2 \\\\\n",
    "\\end{pmatrix} =\n",
    "\\begin{pmatrix}\n",
    "  Prey polution \\\\\n",
    "  Predator Polution \\\\\n",
    "\\end{pmatrix}    \n",
    "$$\n",
    "\n",
    "$$\n",
    "f(x) = \n",
    "\\begin{pmatrix}\n",
    "  (b-px_2)x_1 \\\\\n",
    "  (rx_1 - d)x_2 \\\\\n",
    "\\end{pmatrix}   \n",
    "$$\n",
    "\n",
    "> Without predators, the prey population increases (exponentially) without bound, whereas without prey, the predator population diminishes (exponentially) to zero. The nonlinear interaction, with predators eating prey, tends to diminish the prey population and increase the predator population. Use your Runga-Kutta to solve this system, with the values $b = p = r = d = 1$, $x_1(0) = 0.3$, and $x_2(0) = 0.2$."
   ]
  },
  {
   "cell_type": "markdown",
   "metadata": {},
   "source": [
    "## 3.\n",
    "\n",
    "> We have multiple robots that can generate point clouds such as those coming from a Kinect camera. In many cases we want to use the robots to detect objects in its enviroment. We provide three data files:\n",
    "\n",
    "(a) Empty-Table.txt which containts a data for an empty table  \n",
    "(b) Cluttered-Table.txt contains point cloud for a cluttered table  \n",
    "(c) Hallway.txt  \n",
    "\n",
    "> Each file has the point cloud file in a format with each line contains $x_i y_i z_i$\n",
    "\n",
    "* Provide a method to estimate the plane parameter for the table. Test it both with the empty and cluttered table. Describe how you filter out the data from the objects. You have to be able to estimate the table parameters in the presence of clutter.\n",
    "* Describe and show how the method can be generalized to extract all the dominant planes in a relatively empty hallway."
   ]
  },
  {
   "cell_type": "code",
   "execution_count": null,
   "metadata": {},
   "outputs": [],
   "source": []
  }
 ],
 "metadata": {
  "kernelspec": {
   "display_name": "Python [conda root]",
   "language": "python",
   "name": "conda-root-py"
  },
  "language_info": {
   "codemirror_mode": {
    "name": "ipython",
    "version": 3
   },
   "file_extension": ".py",
   "mimetype": "text/x-python",
   "name": "python",
   "nbconvert_exporter": "python",
   "pygments_lexer": "ipython3",
   "version": "3.5.4"
  }
 },
 "nbformat": 4,
 "nbformat_minor": 2
}
