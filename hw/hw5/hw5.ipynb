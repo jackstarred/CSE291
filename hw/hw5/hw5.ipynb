{
 "cells": [
  {
   "cell_type": "markdown",
   "metadata": {
    "slideshow": {
     "slide_type": "slide"
    }
   },
   "source": [
    "# HW5 : Math for Robotics"
   ]
  },
  {
   "cell_type": "markdown",
   "metadata": {},
   "source": [
    "Author: Ruffin White  \n",
    "Course: CSE291  \n",
    "Date: Mar 23 2018"
   ]
  },
  {
   "cell_type": "code",
   "execution_count": null,
   "metadata": {
    "slideshow": {
     "slide_type": "skip"
    }
   },
   "outputs": [],
   "source": [
    "# Make plots inline\n",
    "%matplotlib inline\n",
    "\n",
    "# Make inline plots vector graphics instead of raster graphics\n",
    "from IPython.display import set_matplotlib_formats\n",
    "# set_matplotlib_formats('pdf', 'svg')\n",
    "set_matplotlib_formats('png', 'pdf')\n",
    "# set_matplotlib_formats('png')\n",
    "\n",
    "# import modules for plotting and data analysis\n",
    "import matplotlib.pyplot as plt\n",
    "from IPython.display import HTML\n",
    "from log_progress import log_progress"
   ]
  },
  {
   "cell_type": "markdown",
   "metadata": {
    "slideshow": {
     "slide_type": "slide"
    }
   },
   "source": [
    "## 1. \n",
    "\n",
    "> The world model is shown in figure 1. The robot is a differential drive\n",
    "system of size 50x50.\n",
    "\n",
    "1. Generate the configuration space for the robot with a grid size of 2x2 and 5 deg in angular resolution. Generate an illustration of what the configuration space looks like with the robot at orientations 0, 45 and 90 deg.\n",
    "2. Use greedy search find the shortest path between start-point (50,50) and end-point (750,250). Illustrate the path and provide its length.\n",
    "3. Compute the safest path from start to finish (hint: medial axis transform). Illustrate the path and provide its length.\n",
    "4. Use probabilistic roadmaps (PRM) to compute a path between startand end-points with 50, 100 and 500 sample points. What is the difference in path length? Illustrate each computed path.\n",
    "5. Do the same with Rapid exploring random trees (RRT). What are the main differences in performance between PRM and RRT? Illustrate each path."
   ]
  },
  {
   "cell_type": "markdown",
   "metadata": {},
   "source": [
    "## Configuration Space"
   ]
  },
  {
   "cell_type": "code",
   "execution_count": null,
   "metadata": {},
   "outputs": [],
   "source": [
    "import cv2\n",
    "import numpy as np\n",
    "import pandas as pd\n",
    "import pathlib\n",
    "import scipy.spatial\n",
    "import scipy.signal\n",
    "\n",
    "from matplotlib import animation\n",
    "from collections import OrderedDict\n",
    "from PIL import Image"
   ]
  },
  {
   "cell_type": "code",
   "execution_count": null,
   "metadata": {},
   "outputs": [],
   "source": [
    "import warnings\n",
    "warnings.filterwarnings('ignore')"
   ]
  },
  {
   "cell_type": "markdown",
   "metadata": {},
   "source": [
    "We'll start by defining a grid-based environment to encapsulate a discretized representation of our world model. We then will populate the 2D grid environment with the set number of wall objects that constrain possible paths what limits our work space."
   ]
  },
  {
   "cell_type": "code",
   "execution_count": null,
   "metadata": {},
   "outputs": [],
   "source": [
    "scale = 2\n",
    "\n",
    "width = int(800/scale)\n",
    "hight = int(300/scale)\n",
    "seg1 = int(200/scale)\n",
    "seg2 = int(600/scale)\n",
    "seg3 = int(400/scale)\n",
    "seg4 = int(100/scale)\n",
    "\n",
    "map_2d = np.zeros(shape=(width, hight))\n",
    "map_2d[0,:] = 1\n",
    "map_2d[:,0] = 1\n",
    "map_2d[:,hight-1] = 1\n",
    "map_2d[width-1,:] = 1\n",
    "\n",
    "map_2d[seg1-1,0:seg1] = 1\n",
    "map_2d[seg2-1,0:seg1] = 1\n",
    "\n",
    "map_2d[seg3-1,hight-1-seg1:hight-1] = 1\n",
    "map_2d[seg3-1-seg4:seg3-1+seg4,hight-1-seg1] = 1"
   ]
  },
  {
   "cell_type": "markdown",
   "metadata": {},
   "source": [
    "Well also define our Robot as pixelated shape, subject to the same scale used in deriving the environment. "
   ]
  },
  {
   "cell_type": "code",
   "execution_count": null,
   "metadata": {},
   "outputs": [],
   "source": [
    "rwidth = int(50/scale)\n",
    "rhight = int(50/scale)\n",
    "robot_2d = np.ones(shape=(rwidth, rhight))"
   ]
  },
  {
   "cell_type": "markdown",
   "metadata": {},
   "source": [
    "Here we’ll define a function to rotate our robot representation given an angle in degrees."
   ]
  },
  {
   "cell_type": "code",
   "execution_count": null,
   "metadata": {},
   "outputs": [],
   "source": [
    "def rotate_bound(image, angle):\n",
    "    # borrowed from https://www.pyimagesearch.com/2017/01/02/rotate-images-correctly-with-opencv-and-python/\n",
    "    # grab the dimensions of the image and then determine the\n",
    "    # center\n",
    "    (h, w) = image.shape[:2]\n",
    "    (cX, cY) = (w // 2, h // 2)\n",
    " \n",
    "    # grab the rotation matrix (applying the negative of the\n",
    "    # angle to rotate clockwise), then grab the sine and cosine\n",
    "    # (i.e., the rotation components of the matrix)\n",
    "    M = cv2.getRotationMatrix2D((cX, cY), -angle, 1.0)\n",
    "    cos = np.abs(M[0, 0])\n",
    "    sin = np.abs(M[0, 1])\n",
    " \n",
    "    # compute the new bounding dimensions of the image\n",
    "    nW = int((h * sin) + (w * cos))\n",
    "    nH = int((h * cos) + (w * sin))\n",
    " \n",
    "    # adjust the rotation matrix to take into account translation\n",
    "    M[0, 2] += (nW / 2) - cX\n",
    "    M[1, 2] += (nH / 2) - cY\n",
    " \n",
    "    # perform the actual rotation and return the image\n",
    "    return cv2.warpAffine(image, M, (nW, nH))"
   ]
  },
  {
   "cell_type": "markdown",
   "metadata": {},
   "source": [
    "Given both are world and robot representations I represented as occupancy and 2D arrays, we can use simple 2d convolution, optimized with the FFT  transform,  to generate our configuration space with respect to a given angle, or list of  angles In which the robot is rotated."
   ]
  },
  {
   "cell_type": "code",
   "execution_count": null,
   "metadata": {},
   "outputs": [],
   "source": [
    "def get_config_2d(map_2d, robot_2d_rot):\n",
    "    config_2d = scipy.signal.fftconvolve(map_2d, robot_2d_rot, mode='same')\n",
    "    return config_2d\n",
    "\n",
    "def get_config_space(map_2d, robot_2d_rot, angles):\n",
    "    config_space = np.empty((width, hight, angle_res))\n",
    "    for i, angle in enumerate(angles):\n",
    "        robot_2d_rot = rotate_bound(robot_2d, angle)\n",
    "        config_space[:,:,i] = get_config_2d(map_2d, robot_2d_rot)\n",
    "    return config_space"
   ]
  },
  {
   "cell_type": "markdown",
   "metadata": {},
   "source": [
    "We also define a simple function to plot our workspace or partial configuration space for visualization."
   ]
  },
  {
   "cell_type": "code",
   "execution_count": null,
   "metadata": {},
   "outputs": [],
   "source": [
    "def plot_map_2d(map_2d, hold=False):\n",
    "    f, axs = plt.subplots(1,1,figsize=(24,64))\n",
    "#     axs.imshow(map_2d.T, cmap=plt.cm.Spectral_r, interpolation='none')\n",
    "    axs.imshow(map_2d.T, cmap=plt.cm.nipy_spectral, interpolation='none')\n",
    "    for d in [\"left\", \"top\", \"bottom\", \"right\"]:\n",
    "        axs.spines[d].set_visible(False)\n",
    "    if hold:\n",
    "        return f\n",
    "    else:\n",
    "        plt.show()"
   ]
  },
  {
   "cell_type": "markdown",
   "metadata": {},
   "source": [
    "Here will generate our configuration space for the angles between 0 and 90 degrees at a degree resolution of one. Because we are using scipy’s fftconvolve function that padds our signal to next nearest power of the hamming numbers for the fft function optimized for those radixs. This makes this step quite faster than compared to traditional 2D convolution of signal/kernel or workspace/robot respectively."
   ]
  },
  {
   "cell_type": "code",
   "execution_count": null,
   "metadata": {},
   "outputs": [],
   "source": [
    "angle_res = 90\n",
    "angles = np.linspace(start=0, stop=90, num=angle_res, endpoint=False)\n",
    "config_space = get_config_space(map_2d, robot_2d, angles)"
   ]
  },
  {
   "cell_type": "markdown",
   "metadata": {},
   "source": [
    "Plotting this grid based world, we can see the layout as shown in the assignment figure. "
   ]
  },
  {
   "cell_type": "code",
   "execution_count": null,
   "metadata": {},
   "outputs": [],
   "source": [
    "plot_map_2d(map_2d)"
   ]
  },
  {
   "cell_type": "markdown",
   "metadata": {},
   "source": [
    "In the next three figures, we can visualize the configuration space 4 robot rotations at 0, 45, and 90 degrees respectively. Because our configuration space was acquired using to the convolutions, we can visualize the raw response to provide additional insight in robot collisional intensity, as well as a regionalized cost map."
   ]
  },
  {
   "cell_type": "code",
   "execution_count": null,
   "metadata": {},
   "outputs": [],
   "source": [
    "robot_2d_rot = rotate_bound(robot_2d, 0)\n",
    "config_2d = get_config_2d(map_2d, robot_2d_rot)\n",
    "# config_2d = np.clip(a=config_2d, a_min=0, a_max=1)\n",
    "plot_map_2d(config_2d)"
   ]
  },
  {
   "cell_type": "code",
   "execution_count": null,
   "metadata": {},
   "outputs": [],
   "source": [
    "robot_2d_rot = rotate_bound(robot_2d, 45)\n",
    "plt.imshow(robot_2d_rot)"
   ]
  },
  {
   "cell_type": "code",
   "execution_count": null,
   "metadata": {},
   "outputs": [],
   "source": [
    "# robot_2d_rot = rotate_bound(robot_2d, 45)\n",
    "config_2d = get_config_2d(map_2d, robot_2d_rot)\n",
    "# config_2d = np.clip(a=config_2d, a_min=0, a_max=1)\n",
    "plot_map_2d(config_2d)"
   ]
  },
  {
   "cell_type": "code",
   "execution_count": null,
   "metadata": {},
   "outputs": [],
   "source": [
    "robot_2d_rot = rotate_bound(robot_2d, 90)\n",
    "config_2d = get_config_2d(map_2d, robot_2d_rot)\n",
    "# config_2d = np.clip(a=config_2d, a_min=0, a_max=1)\n",
    "plot_map_2d(config_2d)"
   ]
  },
  {
   "cell_type": "markdown",
   "metadata": {},
   "source": [
    "Because our robot is rotationally symmetrical across every half pi radians, we can flatten the configuration space across rotations from 0 to 90 degrees by taking the max value along the 3rd axis on our configuration space 3D array representation. This renders the most conservative configuration space where the black region denote all points in the world reference frame that our robot can freely rotate in place.\n",
    "\n",
    "This is useful for robotic navigation stacks that commonly make use of rotational recovery behaviors when losing localization or determining alternate routes. The astute reader will notice that this is the same result as in taking the  the 2D deconvolution of the world map  with respect to a kernel that is a  simple Circle with a radius defined as the maximum distance a collision point along the robot geometry is with respect to the center of its rotation (assuming our differential drive model)."
   ]
  },
  {
   "cell_type": "code",
   "execution_count": null,
   "metadata": {},
   "outputs": [],
   "source": [
    "config_space_2d = config_space.max(axis=2)\n",
    "# config_space_2d = np.clip(a=config_space_2d, a_min=0, a_max=0.001)\n",
    "plot_map_2d(config_space_2d)"
   ]
  },
  {
   "cell_type": "code",
   "execution_count": null,
   "metadata": {},
   "outputs": [],
   "source": [
    "config_space_2d_bool = config_space.max(axis=2)\n",
    "\n",
    "thresh = 0.001\n",
    "config_space_2d_bool[config_space_2d < thresh] = 0\n",
    "config_space_2d_bool[config_space_2d >= thresh] = 1\n",
    "plot_map_2d(config_space_2d_bool)"
   ]
  },
  {
   "cell_type": "markdown",
   "metadata": {},
   "source": [
    "We can define a function to sweep through the configuration space in an animated fashion. However this is quite slow using to matplotlib."
   ]
  },
  {
   "cell_type": "code",
   "execution_count": null,
   "metadata": {},
   "outputs": [],
   "source": [
    "import matplotlib\n",
    "# matplotlib.use('GTKAgg')\n",
    "\n",
    "def plot_3d(config_space, animated=False, stride=1):\n",
    "#     config_space = config_space[::stride]\n",
    "    \n",
    "    fig, axs = plt.subplots(1,1,figsize=(16,6))\n",
    "    fig.canvas.draw()\n",
    "    \n",
    "\n",
    "    def init():\n",
    "        axs.imshow(config_space[:,:,0].T, cmap=plt.cm.Spectral_r, interpolation='none')\n",
    "        plt.axis('off')\n",
    "        plt.tight_layout()\n",
    "#         for d in [\"left\", \"top\", \"bottom\", \"right\"]:\n",
    "#             axs.spines[d].set_visible(False)\n",
    "        \n",
    "        return fig,\n",
    "    \n",
    "    def animate(i):\n",
    "        axs.imshow(config_space[:,:,i].T, cmap=plt.cm.Spectral_r, interpolation='none')\n",
    "        return fig,\n",
    "    \n",
    "    if animated:\n",
    "        frames = log_progress(range(angle_res), 1)\n",
    "        anim = animation.FuncAnimation(fig, animate, init_func=init,\n",
    "                                       frames=frames, interval=20, blit=True)\n",
    "        video = anim.to_html5_video()\n",
    "        return video\n",
    "    else:\n",
    "        init()\n",
    "        return fig\n",
    "\n",
    "# empty2_video = plot_3d(config_space, animated=True)\n",
    "# display(HTML(empty2_video))"
   ]
  },
  {
   "cell_type": "markdown",
   "metadata": {},
   "source": [
    "A better alternative is perhaps using pygtgraph and let OpenGL do the heavy lifting for us in rendering the frames."
   ]
  },
  {
   "cell_type": "code",
   "execution_count": null,
   "metadata": {},
   "outputs": [],
   "source": [
    "# import numpy as np\n",
    "# from pyqtgraph.Qt import QtCore, QtGui\n",
    "# import pyqtgraph as pg\n",
    "\n",
    "# # Interpret image data as row-major instead of col-major\n",
    "# pg.setConfigOptions(imageAxisOrder='row-major')\n",
    "\n",
    "# app = QtGui.QApplication([])\n",
    "\n",
    "# ## Create window with ImageView widget\n",
    "# win = QtGui.QMainWindow()\n",
    "# win.resize(800,300)\n",
    "# imv = pg.ImageView()\n",
    "# win.setCentralWidget(imv)\n",
    "# win.show()\n",
    "# win.setWindowTitle('pyqtgraph example: ImageView')\n",
    "\n",
    "# data = config_space[:,:,:]\n",
    "# # data = np.clip(a=data, a_min=0, a_max=1)\n",
    "\n",
    "\n",
    "# ## Display the data and assign each frame a time value from 1.0 to 3.0\n",
    "# imv.setImage(data.T, xvals=angles)\n",
    "\n",
    "# # Get the colormap\n",
    "# colormap = plt.cm.nipy_spectral  # cm.get_cmap(\"CMRmap\")\n",
    "# colormap._init()\n",
    "# lut = (colormap._lut * 255).view(np.ndarray)  # Convert matplotlib colormap from 0-1 to 0 -255 for Qt\n",
    "# imv.imageItem.setLookupTable(lut)\n",
    "\n",
    "# ptr = 0\n",
    "# def update():\n",
    "#     global data, ptr\n",
    "#     imv.imageItem.updateImage(data[:,:,ptr].T)\n",
    "#     imv.imageItem.setLookupTable(lut)\n",
    "#     ptr += 1\n",
    "#     ptr = ptr % angles.size\n",
    "# timer = QtCore.QTimer()\n",
    "# timer.timeout.connect(update)\n",
    "\n",
    "# ## Start Qt event loop unless running in interactive mode.\n",
    "# if __name__ == '__main__':\n",
    "#     import sys\n",
    "#     if (sys.flags.interactive != 1) or not hasattr(QtCore, 'PYQT_VERSION'):\n",
    "#         timer.start(50)\n",
    "#         QtGui.QApplication.instance().exec_()\n"
   ]
  },
  {
   "cell_type": "markdown",
   "metadata": {},
   "source": [
    "We can also use pygtgraph to slice the Configuration space arbitrarily, similarly done with MRI scans."
   ]
  },
  {
   "cell_type": "code",
   "execution_count": null,
   "metadata": {},
   "outputs": [],
   "source": [
    "# import numpy as np\n",
    "# from pyqtgraph.Qt import QtCore, QtGui\n",
    "# import pyqtgraph as pg\n",
    "\n",
    "# app = QtGui.QApplication([])\n",
    "\n",
    "# ## Create window with two ImageView widgets\n",
    "# win = QtGui.QMainWindow()\n",
    "# win.resize(800,800)\n",
    "# win.setWindowTitle('pyqtgraph example: DataSlicing')\n",
    "# cw = QtGui.QWidget()\n",
    "# win.setCentralWidget(cw)\n",
    "# l = QtGui.QGridLayout()\n",
    "# cw.setLayout(l)\n",
    "# imv1 = pg.ImageView()\n",
    "# imv2 = pg.ImageView()\n",
    "# l.addWidget(imv1, 0, 0)\n",
    "# l.addWidget(imv2, 1, 0)\n",
    "# win.show()\n",
    "\n",
    "# roi = pg.LineSegmentROI([[10, 64], [120,64]], pen='r')\n",
    "# imv1.addItem(roi)\n",
    "\n",
    "# x1 = np.linspace(-30, 10, 128)[:, np.newaxis, np.newaxis]\n",
    "# x2 = np.linspace(-20, 20, 128)[:, np.newaxis, np.newaxis]\n",
    "# y = np.linspace(-30, 10, 128)[np.newaxis, :, np.newaxis]\n",
    "# z = np.linspace(-20, 20, 128)[np.newaxis, np.newaxis, :]\n",
    "# d1 = np.sqrt(x1**2 + y**2 + z**2)\n",
    "# d2 = 2*np.sqrt(x1[::-1]**2 + y**2 + z**2)\n",
    "# d3 = 4*np.sqrt(x2**2 + y[:,::-1]**2 + z**2)\n",
    "# # data = (np.sin(d1) / d1**2) + (np.sin(d2) / d2**2) + (np.sin(d3) / d3**2)\n",
    "# data = config_space[:,:,:]\n",
    "\n",
    "# def update():\n",
    "#     global data, imv1, imv2\n",
    "#     d2 = roi.getArrayRegion(data, imv1.imageItem, axes=(1,2))\n",
    "#     imv2.setImage(d2)\n",
    "    \n",
    "# roi.sigRegionChanged.connect(update)\n",
    "\n",
    "\n",
    "# ## Display the data\n",
    "# imv1.setImage(data)\n",
    "# imv1.setHistogramRange(-0.01, 0.01)\n",
    "# imv1.setLevels(-0.003, 0.003)\n",
    "\n",
    "# update()\n",
    "\n",
    "# ## Start Qt event loop unless running in interactive mode.\n",
    "# if __name__ == '__main__':\n",
    "#     import sys\n",
    "#     if (sys.flags.interactive != 1) or not hasattr(QtCore, 'PYQT_VERSION'):\n",
    "#         QtGui.QApplication.instance().exec_()"
   ]
  },
  {
   "cell_type": "markdown",
   "metadata": {},
   "source": [
    "Lastly we can export the occupancy grid from our configuration workspace and to a three dimensional Point cloud. Obviously this only works because of the 2D dimension of our initial world frame with the additional dimension of rotation. However the same slicing technique, as above, could be used to introspect the configuration space for higher dimensions."
   ]
  },
  {
   "cell_type": "code",
   "execution_count": null,
   "metadata": {},
   "outputs": [],
   "source": [
    "# from plyfile import PlyData, PlyElement\n",
    "# data = np.clip(a=config_space, a_min=0, a_max=1)\n",
    "# points = np.asarray(np.where(data == 1)).T\n",
    "# vertex = np.array(list(map(tuple, points)), dtype=[('x', 'u2'), ('y', 'u2'), ('z', 'u2')])\n",
    "# el = PlyElement.describe(vertex, 'config_space')\n",
    "# PlyData([el]).write('config_space.ply')"
   ]
  },
  {
   "cell_type": "code",
   "execution_count": null,
   "metadata": {},
   "outputs": [],
   "source": [
    "# # import numpy as np\n",
    "# import yaml\n",
    "# matrix = np.random.randint(2, size=(10,7))\n",
    "# with open('foo.yaml', 'w') as f:\n",
    "#     yaml.dump(config_space.flatten().tolist(), f)"
   ]
  },
  {
   "cell_type": "code",
   "execution_count": null,
   "metadata": {},
   "outputs": [],
   "source": [
    "# thresh = 0.001\n",
    "# config_space_bool = config_space.copy()\n",
    "# config_space_bool[config_space < thresh] = 0\n",
    "# config_space_bool[config_space >= thresh] = 1\n",
    "# plot_map_2d(config_space_bool[:,:,45])"
   ]
  },
  {
   "cell_type": "code",
   "execution_count": null,
   "metadata": {},
   "outputs": [],
   "source": [
    "# np.savetxt('config_space_bool.yaml', config_space_bool.flatten(), delimiter=',', fmt='%d,')"
   ]
  },
  {
   "cell_type": "markdown",
   "metadata": {},
   "source": [
    "## Greedy Search"
   ]
  },
  {
   "cell_type": "code",
   "execution_count": null,
   "metadata": {},
   "outputs": [],
   "source": [
    "import oyaml as yaml\n",
    "import collections\n",
    "\n",
    "def search2yaml(start, goal, map_grid, path):\n",
    "    meta = []\n",
    "    meta.append({'start': start[::-1].tolist()})\n",
    "    meta.append({'goal': goal[::-1].tolist()})\n",
    "    meta.append({'origin': np.zeros(len(map_grid.shape), dtype=np.int).tolist()})\n",
    "    meta.append({'dim': list(map_grid.shape[::-1])})\n",
    "    meta.append({'resolution': 1})\n",
    "    meta.append({'data': map_grid.flatten().astype(np.int).tolist()})\n",
    "    with open(path, 'w') as outfile:\n",
    "        yaml.dump(list(meta), outfile)"
   ]
  },
  {
   "cell_type": "code",
   "execution_count": null,
   "metadata": {},
   "outputs": [],
   "source": [
    "start = (np.array([50,50])/scale).astype(np.int)\n",
    "goal = (np.array([750,250])/scale).astype(np.int)\n",
    "\n",
    "config_space_2d_bool_path = '/tmp/config_space_2d_bool.yaml'\n",
    "search2yaml(start=start, goal=goal, map_grid=config_space_2d_bool, path=config_space_2d_bool_path)"
   ]
  },
  {
   "cell_type": "code",
   "execution_count": null,
   "metadata": {},
   "outputs": [],
   "source": [
    "jps_build_path = '/home/ruffsl/git/sikang/jps3d/build'\n",
    "output_dir = '/tmp/'"
   ]
  },
  {
   "cell_type": "code",
   "execution_count": null,
   "metadata": {},
   "outputs": [],
   "source": [
    "%%script env JPS_BUILD_PATH=\"$jps_build_path\" YAML_FILE=\"$config_space_2d_bool_path\" OUTPUT_DIR=\"$output_dir\" bash\n",
    "\n",
    "cd $JPS_BUILD_PATH\n",
    "./test_planner_2d $YAML_FILE $OUTPUT_DIR"
   ]
  },
  {
   "cell_type": "code",
   "execution_count": null,
   "metadata": {},
   "outputs": [],
   "source": [
    "import os\n",
    "\n",
    "def read_solved_paths(output_dir):\n",
    "    path_jps_file = os.path.join(output_dir, 'path_jps.csv')\n",
    "    path_astar_file = os.path.join(output_dir, 'path_astar.csv')\n",
    "    path_jps = np.genfromtxt(path_jps_file, delimiter=',', dtype=np.int).T\n",
    "    path_astar = np.genfromtxt(path_astar_file, delimiter=',', dtype=np.int)[::-1].T\n",
    "    path_jps[[0, 1],:] = path_jps[[1, 0],:]\n",
    "    path_astar[[0, 1],:] = path_astar[[1, 0],:]\n",
    "    return path_jps, path_astar"
   ]
  },
  {
   "cell_type": "code",
   "execution_count": null,
   "metadata": {},
   "outputs": [],
   "source": [
    "path_jps, path_astar = read_solved_paths(output_dir)\n",
    "\n",
    "fig = plot_map_2d(config_space_2d_bool, hold=True)\n",
    "ax = fig.get_axes()[0]\n",
    "\n",
    "ax.plot(path_astar[0], path_astar[1], label=\"A* Search\")\n",
    "ax.plot(path_jps[0], path_jps[1], '--', label=\"Jump Point Search\")\n",
    "plt.legend()\n",
    "plt.show()"
   ]
  },
  {
   "cell_type": "code",
   "execution_count": null,
   "metadata": {},
   "outputs": [],
   "source": [
    "a, b = int(rwidth/2-1), int(rwidth/2-1)\n",
    "n = rwidth\n",
    "r = int(rwidth/2)\n",
    "y,x = np.ogrid[-a:n-a, -b:n-b]\n",
    "mask = x*x + y*y <= r*r\n",
    "\n",
    "optimistic_robot_2d = np.zeros((n, n))\n",
    "optimistic_robot_2d[mask] = 1"
   ]
  },
  {
   "cell_type": "code",
   "execution_count": null,
   "metadata": {},
   "outputs": [],
   "source": [
    "plt.imshow(optimistic_robot_2d)\n",
    "plt.show()"
   ]
  },
  {
   "cell_type": "code",
   "execution_count": null,
   "metadata": {},
   "outputs": [],
   "source": [
    "optimistic_config_space_2d = get_config_2d(map_2d, optimistic_robot_2d)\n",
    "plot_map_2d(optimistic_config_space_2d)\n",
    "\n",
    "\n",
    "optimistic_config_space_2d_bool = optimistic_config_space_2d.copy()\n",
    "optimistic_config_space_2d_bool[optimistic_config_space_2d < thresh] = 0\n",
    "optimistic_config_space_2d_bool[optimistic_config_space_2d >= thresh] = 1\n",
    "# plot_map_2d(optimistic_config_space_2d_bool)"
   ]
  },
  {
   "cell_type": "code",
   "execution_count": null,
   "metadata": {},
   "outputs": [],
   "source": [
    "optimistic_config_space_2d_bool_path = '/tmp/optimistic_config_space_2d_bool.yaml'\n",
    "search2yaml(start=start, goal=goal, map_grid=optimistic_config_space_2d_bool, path=optimistic_config_space_2d_bool_path)"
   ]
  },
  {
   "cell_type": "code",
   "execution_count": null,
   "metadata": {},
   "outputs": [],
   "source": [
    "%%script env JPS_BUILD_PATH=\"$jps_build_path\" YAML_FILE=\"$optimistic_config_space_2d_bool_path\" OUTPUT_DIR=\"$output_dir\" bash\n",
    "\n",
    "cd $JPS_BUILD_PATH\n",
    "./test_planner_2d $YAML_FILE $OUTPUT_DIR"
   ]
  },
  {
   "cell_type": "code",
   "execution_count": null,
   "metadata": {},
   "outputs": [],
   "source": [
    "path_jps, path_astar = read_solved_paths(output_dir)\n",
    "\n",
    "fig = plot_map_2d(optimistic_config_space_2d_bool, hold=True)\n",
    "ax = fig.get_axes()[0]\n",
    "\n",
    "ax.plot(path_astar[0], path_astar[1], label=\"A* Search\")\n",
    "ax.plot(path_jps[0], path_jps[1], '--', label=\"Jump Point Search\")\n",
    "plt.legend()\n",
    "plt.show()"
   ]
  },
  {
   "cell_type": "markdown",
   "metadata": {},
   "source": [
    "Because of the Triangle inequality, we know the paths generated from our Manhattan based configuration space will always be of a longer distance than that of pure continuous euclidean solutions."
   ]
  },
  {
   "cell_type": "markdown",
   "metadata": {},
   "source": [
    "## Safest Path"
   ]
  },
  {
   "cell_type": "markdown",
   "metadata": {},
   "source": [
    "Computing the safest is path through our workspace environment will in this case equate as being the trajectory that is  maximally distant from all nearby obstacles. Essentially this necessitates computing the voronoi partitions for the empty regions in the work space. We can then travers the set of points generated from this tessellation as it provides us a simplistic roadmap. We then need only find the closest decomposed points to both the start and the goal. As a final check, we can sample the resulting trajectory using our configuration space as a collisions look up."
   ]
  },
  {
   "cell_type": "code",
   "execution_count": null,
   "metadata": {},
   "outputs": [],
   "source": [
    "points = np.asarray(np.where(map_2d == 1)).T\n",
    "vor = scipy.spatial.Voronoi(points)\n",
    "\n",
    "vertices = vor.vertices[::1].T.astype(int)\n",
    "map_2d_vert = map_2d.copy()\n",
    "map_2d_vert[vertices[0],vertices[1]] = 2\n",
    "map_2d_vert[map_2d == 1] = 1\n",
    "\n",
    "plot_map_2d(map_2d_vert)"
   ]
  },
  {
   "cell_type": "code",
   "execution_count": null,
   "metadata": {},
   "outputs": [],
   "source": [
    "map_2d_vert_bool = map_2d_vert.copy()\n",
    "map_2d_vert_bool[map_2d_vert == 2] = 0\n",
    "map_2d_vert_bool[map_2d_vert != 2] = 1\n",
    "\n",
    "map_2d_vert_bool_path = '/tmp/map_2d_vert_bool.yaml'\n",
    "search2yaml(start=start, goal=goal, map_grid=map_2d_vert_bool, path=map_2d_vert_bool_path)"
   ]
  },
  {
   "cell_type": "code",
   "execution_count": null,
   "metadata": {},
   "outputs": [],
   "source": [
    "%%script env JPS_BUILD_PATH=\"$jps_build_path\" YAML_FILE=\"$map_2d_vert_bool_path\" OUTPUT_DIR=\"$output_dir\" bash\n",
    "\n",
    "cd $JPS_BUILD_PATH\n",
    "./test_planner_2d $YAML_FILE $OUTPUT_DIR"
   ]
  },
  {
   "cell_type": "code",
   "execution_count": null,
   "metadata": {
    "scrolled": false
   },
   "outputs": [],
   "source": [
    "path_jps, path_astar = read_solved_paths(output_dir)\n",
    "\n",
    "fig = plot_map_2d(map_2d, hold=True)\n",
    "ax = fig.get_axes()[0]\n",
    "\n",
    "ax.plot(path_astar[0], path_astar[1], label=\"A* Search\")\n",
    "ax.plot(path_jps[0], path_jps[1], '--', label=\"Jump Point Search\")\n",
    "plt.legend()\n",
    "plt.show()"
   ]
  },
  {
   "cell_type": "markdown",
   "metadata": {},
   "source": [
    "## Probabilistic Road Maps"
   ]
  },
  {
   "cell_type": "code",
   "execution_count": null,
   "metadata": {},
   "outputs": [],
   "source": [
    "def sample_points(map_2d, n_sample):\n",
    "    map_2d_flat = map_2d.flatten()\n",
    "    \n",
    "    map_2d_p = ((map_2d.flatten()-1)*-1).astype(np.int)\n",
    "    map_2d_p = map_2d_p/map_2d_p.sum()\n",
    "    map_2d_ix = np.arange(0, map_2d_flat.size)\n",
    "\n",
    "    samples = np.random.choice(map_2d_ix, n_sample, replace=False, p=map_2d_p)\n",
    "    samples = np.array(np.unravel_index(samples, map_2d.shape))\n",
    "\n",
    "    return samples"
   ]
  },
  {
   "cell_type": "code",
   "execution_count": null,
   "metadata": {},
   "outputs": [],
   "source": [
    "n_samples = 50\n",
    "samples = sample_points(config_space_2d_bool, n_samples)\n",
    "\n",
    "fig = plot_map_2d(config_space_2d_bool, hold=True)\n",
    "ax = fig.get_axes()[0]\n",
    "\n",
    "ax.plot(samples[0], samples[1], 'o', label=\"PRM\")\n",
    "plt.legend()\n",
    "plt.show()"
   ]
  },
  {
   "cell_type": "code",
   "execution_count": null,
   "metadata": {},
   "outputs": [],
   "source": [
    "from skimage import measure\n",
    "import networkx as nx\n",
    "import heapq"
   ]
  },
  {
   "cell_type": "code",
   "execution_count": null,
   "metadata": {},
   "outputs": [],
   "source": [
    "def norm_by_min_max(array):\n",
    "    array = array - array.min()\n",
    "    array = array/array.max()\n",
    "    array = array/array.sum()\n",
    "    return array\n",
    "\n",
    "def sample_edges(G, n_sample, attribute='distance'):\n",
    "    edgelist, edge_distances = zip(*nx.get_edge_attributes(G,attribute).items())\n",
    "    edges_p = np.array(edge_distances)\n",
    "    edges_p = norm_by_min_max(edges_p)\n",
    "    edges_ix = np.arange(0, len(edgelist))\n",
    "\n",
    "    samples = np.random.choice(edges_ix, n_sample, replace=False, p=edges_p)\n",
    "    return samples\n",
    "\n",
    "def sample_edges_sorted(G, n_sample, attribute='distance'):\n",
    "    edgelist, edge_distances = zip(*nx.get_edge_attributes(G,attribute).items())\n",
    "    edge_distances = np.array(edge_distances)\n",
    "    edges_ix = np.arange(0, len(edgelist))\n",
    "    \n",
    "    samples = heapq.nlargest(n_sample, edges_ix, edge_distances.take)\n",
    "    return samples\n",
    "\n",
    "def prune_graph_edges(G, n_prune, prune_method):\n",
    "    samples = prune_method(G, n_prune)\n",
    "    edges = np.array(G.edges())\n",
    "    edges = edges[samples]\n",
    "    for edge in edges:\n",
    "        u, v = tuple(edge[0]), tuple(edge[1])\n",
    "        G.remove_edge(u, v)\n",
    "    return G"
   ]
  },
  {
   "cell_type": "code",
   "execution_count": null,
   "metadata": {},
   "outputs": [],
   "source": [
    "def distance(u, v):\n",
    "    return np.linalg.norm(np.array(u)-np.array(v))\n",
    "\n",
    "def build_prm_graph(map_2d, samples, n_prune, prune_method=sample_edges):\n",
    "    G = nx.complete_graph(samples.shape[1])\n",
    "    print(\"G.edges: \", len(G.edges()))\n",
    "    \n",
    "    keys = tuple(map(tuple, samples.T))\n",
    "    mapping = dict(zip(G.nodes, keys))\n",
    "    G = nx.relabel_nodes(G, mapping)\n",
    "    \n",
    "    print(\"distance\")\n",
    "    for u, v, data in G.edges(data=True):\n",
    "        data['color'] = 'blue'\n",
    "        data['distance'] = distance(u, v)\n",
    "    print(\"prune_graph_edges\")\n",
    "    G = prune_graph_edges(G, n_prune, prune_method)\n",
    "    \n",
    "    \n",
    "    G_temp = G.copy()\n",
    "    \n",
    "    G_edges = G_temp.edges()\n",
    "    print(\"G_edges: \", len(G_edges))\n",
    "    for edge in G_edges:\n",
    "        trajectory = measure.profile_line(map_2d, edge[0], edge[1])\n",
    "        if trajectory.any():\n",
    "            G.remove_edge(*edge)\n",
    "\n",
    "    for node, data in G.nodes(data=True):\n",
    "        data['color'] = 'purple'\n",
    "        data['pos'] = node\n",
    "    return G"
   ]
  },
  {
   "cell_type": "code",
   "execution_count": null,
   "metadata": {},
   "outputs": [],
   "source": [
    "ratio_prune = 0\n",
    "# ratio_prune = 0.98\n",
    "n_prune = int((n_samples*(n_samples-1)/2)*ratio_prune)\n",
    "G = build_prm_graph(config_space_2d_bool, samples, n_prune)"
   ]
  },
  {
   "cell_type": "markdown",
   "metadata": {},
   "source": [
    "n(n − 1)/2"
   ]
  },
  {
   "cell_type": "code",
   "execution_count": null,
   "metadata": {},
   "outputs": [],
   "source": [
    "fig = plot_map_2d(config_space_2d_bool, hold=True)\n",
    "ax = fig.get_axes()[0]\n",
    "\n",
    "pos = nx.get_node_attributes(G,'pos')\n",
    "edgelist, edge_color = zip(*nx.get_edge_attributes(G,'color').items())\n",
    "nodelist, node_color = zip(*nx.get_node_attributes(G,'color').items())\n",
    "\n",
    "nx.draw(G, pos=pos, ax=ax, edgelist=edgelist, edge_color=edge_color, node_color=node_color)\n",
    "plt.show()"
   ]
  },
  {
   "cell_type": "code",
   "execution_count": null,
   "metadata": {},
   "outputs": [],
   "source": [
    "from scipy import spatial"
   ]
  },
  {
   "cell_type": "code",
   "execution_count": null,
   "metadata": {},
   "outputs": [],
   "source": [
    "def find_closest_open_path(point, tree, map_2d, G):\n",
    "    dists, indexs = tree.query(x=point, k=len(G.nodes()))\n",
    "    for index in indexs:\n",
    "        query = tree.data[index]\n",
    "        trajectory = measure.profile_line(map_2d, point, query)\n",
    "        if not trajectory.any():\n",
    "            return query\n",
    "    raise ValueError(\"No open path found\")\n",
    "\n",
    "def query_prm(start, goal, map_2d, G):\n",
    "    start = tuple(start)\n",
    "    goal = tuple(goal)\n",
    "    G = G.copy()\n",
    "    nodes = G.nodes()\n",
    "    tree = spatial.KDTree(nodes)\n",
    "    graph_start = tuple(find_closest_open_path(start, tree, map_2d, G))\n",
    "    graph_goal = tuple(find_closest_open_path(goal, tree, map_2d, G))\n",
    "    G.add_node(start, pos=start, color='green')\n",
    "    G.add_node(goal, pos=goal, color='red')\n",
    "    G.add_edge(start, graph_start, distance=distance(start, graph_start))\n",
    "    G.add_edge(goal, graph_goal, distance=distance(goal, graph_goal))\n",
    "    \n",
    "    path = nx.astar_path(G, source=start, target=goal, heuristic=distance, weight='distance')\n",
    "    G_path = G.subgraph(path)\n",
    "    for u, v, data in G_path.edges(data=True):\n",
    "        data['color'] = 'orange'\n",
    "    for node, data in G_path.nodes(data=True):\n",
    "        if node not in [start, goal]:\n",
    "            data['color'] = 'orange'\n",
    "    length = nx.astar_path_length(G, source=start, target=goal, heuristic=distance, weight='distance')\n",
    "    return G, path, length"
   ]
  },
  {
   "cell_type": "code",
   "execution_count": null,
   "metadata": {},
   "outputs": [],
   "source": [
    "G, path, length = query_prm(start, goal, map_2d=config_space_2d_bool, G=G)"
   ]
  },
  {
   "cell_type": "code",
   "execution_count": null,
   "metadata": {},
   "outputs": [],
   "source": [
    "fig = plot_map_2d(config_space_2d_bool, hold=True)\n",
    "ax = fig.get_axes()[0]\n",
    "\n",
    "pos = nx.get_node_attributes(G,'pos')\n",
    "edgelist, edge_color = zip(*nx.get_edge_attributes(G,'color').items())\n",
    "nodelist, node_color = zip(*nx.get_node_attributes(G,'color').items())\n",
    "\n",
    "nx.draw(G, pos=pos, ax=ax, edgelist=edgelist, edge_color=edge_color, node_color=node_color)\n",
    "plt.show()\n",
    "print(\"PRM Length: \", length)"
   ]
  },
  {
   "cell_type": "code",
   "execution_count": null,
   "metadata": {},
   "outputs": [],
   "source": [
    "n_samples = 100\n",
    "samples = sample_points(config_space_2d_bool, n_samples)\n",
    "\n",
    "ratio_prune = 0\n",
    "ratio_prune = 0.50\n",
    "n_prune = int((n_samples*(n_samples-1)/2)*ratio_prune)\n",
    "G = build_prm_graph(config_space_2d_bool, samples, n_prune)\n",
    "\n",
    "G, path, length = query_prm(start, goal, map_2d=config_space_2d_bool, G=G)"
   ]
  },
  {
   "cell_type": "code",
   "execution_count": null,
   "metadata": {},
   "outputs": [],
   "source": [
    "fig = plot_map_2d(config_space_2d_bool, hold=True)\n",
    "ax = fig.get_axes()[0]\n",
    "\n",
    "pos = nx.get_node_attributes(G,'pos')\n",
    "edgelist, edge_color = zip(*nx.get_edge_attributes(G,'color').items())\n",
    "nodelist, node_color = zip(*nx.get_node_attributes(G,'color').items())\n",
    "\n",
    "nx.draw(G, pos=pos, ax=ax, edgelist=edgelist, edge_color=edge_color, node_color=node_color)\n",
    "plt.show()\n",
    "print(\"PRM Length: \", length)"
   ]
  },
  {
   "cell_type": "code",
   "execution_count": null,
   "metadata": {},
   "outputs": [],
   "source": [
    "n_samples = 500\n",
    "samples = sample_points(config_space_2d_bool, n_samples)\n",
    "\n",
    "ratio_prune = 0.98\n",
    "n_prune = int((n_samples*(n_samples-1)/2)*ratio_prune)\n",
    "G = build_prm_graph(config_space_2d_bool, samples, n_prune)\n",
    "\n",
    "G, path, length = query_prm(start, goal, map_2d=config_space_2d_bool, G=G)"
   ]
  },
  {
   "cell_type": "code",
   "execution_count": null,
   "metadata": {},
   "outputs": [],
   "source": [
    "fig = plot_map_2d(config_space_2d_bool, hold=True)\n",
    "ax = fig.get_axes()[0]\n",
    "\n",
    "pos = nx.get_node_attributes(G,'pos')\n",
    "edgelist, edge_color = zip(*nx.get_edge_attributes(G,'color').items())\n",
    "nodelist, node_color = zip(*nx.get_node_attributes(G,'color').items())\n",
    "\n",
    "nx.draw(G, pos=pos, ax=ax, edgelist=edgelist, edge_color=edge_color, node_color=node_color)\n",
    "plt.show()\n",
    "print(\"PRM Length: \", length)"
   ]
  },
  {
   "cell_type": "code",
   "execution_count": null,
   "metadata": {},
   "outputs": [],
   "source": [
    "n_samples = 500\n",
    "samples = sample_points(config_space_2d_bool, n_samples)\n",
    "\n",
    "ratio_prune = 0.95\n",
    "n_prune = int((n_samples*(n_samples-1)/2)*ratio_prune)\n",
    "G = build_prm_graph(config_space_2d_bool, samples, n_prune, prune_method=sample_edges_sorted)\n",
    "\n",
    "G, path, length = query_prm(start, goal, map_2d=config_space_2d_bool, G=G)"
   ]
  },
  {
   "cell_type": "code",
   "execution_count": null,
   "metadata": {},
   "outputs": [],
   "source": [
    "fig = plot_map_2d(config_space_2d_bool, hold=True)\n",
    "ax = fig.get_axes()[0]\n",
    "\n",
    "pos = nx.get_node_attributes(G,'pos')\n",
    "edgelist, edge_color = zip(*nx.get_edge_attributes(G,'color').items())\n",
    "nodelist, node_color = zip(*nx.get_node_attributes(G,'color').items())\n",
    "\n",
    "nx.draw(G, pos=pos, ax=ax, edgelist=edgelist, edge_color=edge_color, node_color=node_color)\n",
    "plt.show()\n",
    "print(\"PRM Length: \", length)"
   ]
  },
  {
   "cell_type": "markdown",
   "metadata": {},
   "source": [
    "## Rapid Exploring Random Trees"
   ]
  },
  {
   "cell_type": "code",
   "execution_count": null,
   "metadata": {},
   "outputs": [],
   "source": [
    "from scipy import spatial\n",
    "\n",
    "class RRT_Goal_Connect():\n",
    "    def __init__(self, start, goal, map_2d, goalBias = 0.05, rebalance=True):\n",
    "\n",
    "        self.tree1 = nx.DiGraph()\n",
    "\n",
    "        self.n_iters = 0\n",
    "        self.n_extensions = 0\n",
    "\n",
    "        self.start = start\n",
    "        self.goal  = goal\n",
    "        self.goal_found  = False\n",
    "        self.map_2d = map_2d.copy()\n",
    "        self.goalBias = goalBias\n",
    "        self.rebalance = rebalance\n",
    "        \n",
    "        map_2d_flat = map_2d.flatten()\n",
    "        map_2d_p = ((map_2d.flatten()-1)*-1).astype(np.int)\n",
    "        self.map_2d_p = map_2d_p/map_2d_p.sum()\n",
    "        self.map_2d_ix = np.arange(0, map_2d_flat.size)\n",
    "        \n",
    "        self.tree1.add_node(tuple(self.start), state=self.start)\n",
    "    \n",
    "    def nearest_neighbor(self, tree, state):\n",
    "        node_so_far = None\n",
    "        distance_so_far = None\n",
    "        for this_node, this_data in tree.nodes(data=True):\n",
    "            this_distance = self.distance(this_data['state'], state) \n",
    "            if(distance_so_far is None):\n",
    "                distance_so_far = this_distance\n",
    "                node_so_far = this_node\n",
    "            elif(distance_so_far > this_distance):\n",
    "                node_so_far = this_node\n",
    "                distance_so_far = this_distance\n",
    "        return (node_so_far,distance_so_far)\n",
    "    \n",
    "    def search(self,iters=500):\n",
    "        for i in range(iters):\n",
    "            self.n_iters += 1\n",
    "            if (np.random.rand() <= self.goalBias):\n",
    "                q_rand = self.goal\n",
    "            else:\n",
    "                q_rand = self.sample()\n",
    "            self.extend(q_rand)\n",
    "            if self.goal_found:\n",
    "                print(\"Goal found!\")\n",
    "                print(\"Iterations taken: \", i)\n",
    "                return True\n",
    "        print(\"No goal found...\")\n",
    "        print(\"Iterations taken: \", iters)\n",
    "        return False\n",
    "    \n",
    "    def extend(self,q_rand):\n",
    "        self.n_extensions += 1\n",
    "        tree = self.tree1\n",
    "\n",
    "        q_nearest_id, q_nearest_distance  = self.nearest_neighbor(tree, q_rand)\n",
    "        x_new_id = self.extend_from(tree, q_nearest_id, q_nearest_distance, q_rand)\n",
    "    \n",
    "    def extend_from(self, tree, q_nearest_id, q_nearest_distance, q_rand):\n",
    "        q_near = tree.node[q_nearest_id]['state']\n",
    "        trajectory = measure.profile_line(self.map_2d, q_near, q_rand)\n",
    "        if trajectory.any():\n",
    "            if trajectory[0] or trajectory[1]:\n",
    "                # pointed up against a wall, just ignore it\n",
    "                return\n",
    "            else:\n",
    "                stop_point = np.argmax(trajectory)\n",
    "                delta = (q_rand - q_near)*(stop_point/len(trajectory))\n",
    "                q_new = q_near + np.floor(delta).astype(np.int)\n",
    "                print(self.n_extensions, \" Bumbed wall: \", q_new)\n",
    "        else:\n",
    "            q_new = q_rand\n",
    "        \n",
    "        tree.add_node(tuple(q_new), state=q_new)\n",
    "        q_new_distance = self.distance(q_near, q_new)\n",
    "        tree.add_edge(tuple(q_near), tuple(q_new), color='blue', distance=q_new_distance)\n",
    "        self.check_goal(tree, tuple(q_new))\n",
    "        \n",
    "    def best_solution(self, tree, state):\n",
    "        goal_id = self.nearest_neighbor(tree, state)[0]\n",
    "        path = nx.shortest_path(tree, source=goal_id, target=tuple(self.goal))\n",
    "        length = nx.shortest_path_length(tree, source=goal_id, target=tuple(self.goal), weight='distance')\n",
    "        return path, length\n",
    "    \n",
    "    \n",
    "    def check_goal(self, tree, node_id):\n",
    "        self.goal_found = np.array_equal(self.goal, tree.node[node_id]['state'])\n",
    "    \n",
    "    def sample(self):\n",
    "        \"\"\"\n",
    "        sample() returns point in state space\n",
    "        \"\"\"\n",
    "        sample_1d_ix = np.random.choice(self.map_2d_ix, 1, replace=False, p=self.map_2d_p)\n",
    "        sample_nd_ix = np.array(np.unravel_index(sample_1d_ix, self.map_2d.shape))\n",
    "        q_rand = sample_nd_ix.flatten()\n",
    "        if self.rebalance:\n",
    "            self.map_2d_p[sample_1d_ix] = 0\n",
    "            self.map_2d_p = self.map_2d_p*(1/self.map_2d_p.sum())\n",
    "        return q_rand\n",
    "    \n",
    "    def distance(self,u,v):\n",
    "        \"\"\"\n",
    "        distance(from_node,to_point)\n",
    "        \"\"\"\n",
    "        return spatial.distance.euclidean(u, v)"
   ]
  },
  {
   "cell_type": "code",
   "execution_count": null,
   "metadata": {},
   "outputs": [],
   "source": [
    "rrt_goal_connect = RRT_Goal_Connect(start, goal, config_space_2d_bool, goalBias=0.05)\n",
    "rrt_goal_connect.search(10000)"
   ]
  },
  {
   "cell_type": "code",
   "execution_count": null,
   "metadata": {},
   "outputs": [],
   "source": [
    "fig = plot_map_2d(config_space_2d_bool, hold=True)\n",
    "ax = fig.get_axes()[0]\n",
    "\n",
    "G = rrt_goal_connect.tree1\n",
    "G = G.to_undirected()\n",
    "\n",
    "path, length = rrt_goal_connect.best_solution(rrt_goal_connect.tree1, start)\n",
    "G_path = G.subgraph(path)\n",
    "for u, v, data in G_path.edges(data=True):\n",
    "    data['color'] = 'red'\n",
    "\n",
    "pos = nx.get_node_attributes(G,'state')\n",
    "edgelist, edge_color = zip(*nx.get_edge_attributes(G,'color').items())\n",
    "# nodelist, node_color = zip(*nx.get_node_attributes(G,'color').items())\n",
    "\n",
    "# nx.draw(G, pos=pos, ax=ax, edgelist=edgelist, edge_color=edge_color, node_color=node_color)\n",
    "nx.draw_networkx_edges(G, pos=pos, ax=ax, edge_color=edge_color)\n",
    "plt.show()\n",
    "print(\"RRT Length: \", length)"
   ]
  },
  {
   "cell_type": "code",
   "execution_count": null,
   "metadata": {},
   "outputs": [],
   "source": []
  }
 ],
 "metadata": {
  "kernelspec": {
   "display_name": "Python 3",
   "language": "python",
   "name": "python3"
  },
  "language_info": {
   "codemirror_mode": {
    "name": "ipython",
    "version": 3
   },
   "file_extension": ".py",
   "mimetype": "text/x-python",
   "name": "python",
   "nbconvert_exporter": "python",
   "pygments_lexer": "ipython3",
   "version": "3.6.4"
  },
  "varInspector": {
   "cols": {
    "lenName": 16,
    "lenType": 16,
    "lenVar": 40
   },
   "kernels_config": {
    "python": {
     "delete_cmd_postfix": "",
     "delete_cmd_prefix": "del ",
     "library": "var_list.py",
     "varRefreshCmd": "print(var_dic_list())"
    },
    "r": {
     "delete_cmd_postfix": ") ",
     "delete_cmd_prefix": "rm(",
     "library": "var_list.r",
     "varRefreshCmd": "cat(var_dic_list()) "
    }
   },
   "position": {
    "height": "221px",
    "left": "1326.89px",
    "right": "20px",
    "top": "120px",
    "width": "350px"
   },
   "types_to_exclude": [
    "module",
    "function",
    "builtin_function_or_method",
    "instance",
    "_Feature"
   ],
   "window_display": false
  }
 },
 "nbformat": 4,
 "nbformat_minor": 2
}
