{
 "cells": [
  {
   "cell_type": "markdown",
   "metadata": {},
   "source": [
    "# HW1 : Math for Robotics"
   ]
  },
  {
   "cell_type": "markdown",
   "metadata": {},
   "source": [
    "Author: Ruffin White  \n",
    "Course: CSE291  \n",
    "Date: Jan 25 2018"
   ]
  },
  {
   "cell_type": "code",
   "execution_count": 1,
   "metadata": {
    "collapsed": true
   },
   "outputs": [],
   "source": [
    "import numpy as np\n",
    "from IPython.display import display, Math, Latex\n",
    "\n",
    "def bmatrix(a):\n",
    "    \"\"\"Returns a LaTeX bmatrix\n",
    "    https://stackoverflow.com/a/17131750/2577586\n",
    "\n",
    "    :a: numpy array\n",
    "    :returns: LaTeX bmatrix as a string\n",
    "    \"\"\"\n",
    "    if len(a.shape) > 2:\n",
    "        raise ValueError('bmatrix can at most display two dimensions')\n",
    "    lines = str(a).replace('[', '').replace(']', '').splitlines()\n",
    "    rv = [r'\\begin{bmatrix}']\n",
    "    rv += ['  ' + ' & '.join(l.split()) + r'\\\\' for l in lines]\n",
    "    rv +=  [r'\\end{bmatrix}']\n",
    "    return '\\n'.join(rv)"
   ]
  },
  {
   "cell_type": "markdown",
   "metadata": {},
   "source": [
    "## 1. \n",
    "\n",
    "> Implement the $PA=LDU$ decomposition algorithm by yourself (i.e. do not just call a built-in function in Matlab or Python. You may assume the matrix $A$ is square and of full rank. Show that your implementation is functional."
   ]
  },
  {
   "cell_type": "markdown",
   "metadata": {},
   "source": [
    "See original jupyter notebook for code."
   ]
  },
  {
   "cell_type": "code",
   "execution_count": 23,
   "metadata": {},
   "outputs": [],
   "source": [
    "def plud(a):\n",
    "    \"\"\"\n",
    "    Inspired by procedure presented in book chapter:\n",
    "    http://www.math.iit.edu/~fass/477577_Chapter_7.pdf\n",
    "    \"\"\"\n",
    "    shape = a.shape\n",
    "#     print(\"a.shape: \", a.shape)\n",
    "    p = np.identity(shape[0])\n",
    "    l = np.identity(shape[0])\n",
    "    p_s = []\n",
    "    l_s = []\n",
    "    a_i = a\n",
    "\n",
    "    for i in range(shape[0]-1):\n",
    "#         print(\"i: \", i)\n",
    "#         print(\"a_i: \\n\", a_i)\n",
    "\n",
    "        # Determine the next largest pivot by index\n",
    "        pivot_search_space = a_i[i:,i]\n",
    "        abs_pivot_search_space = np.absolute(pivot_search_space)\n",
    "#         abs_pivot_search_space = pivot_search_space\n",
    "        pivot_argmax = np.argmax(abs_pivot_search_space)\n",
    "        max_pivot_index = pivot_argmax + i\n",
    "\n",
    "#         print(\"max_pivot_index: \", max_pivot_index)\n",
    "\n",
    "        # Create next permutation matrix\n",
    "        p_i = np.identity(shape[0])\n",
    "        p_i[[i, max_pivot_index],:] = p_i[[max_pivot_index, i],:]\n",
    "#         print(\"p_i: \\n\", p_i)\n",
    "    \n",
    "        # Build up the eventual permutation \n",
    "        p = p_i.dot(p)\n",
    "        p_s.append(p_i)\n",
    "\n",
    "        # Apply current permutation to current iteration of A\n",
    "        a_i = p_i.dot(a_i)\n",
    "        \n",
    "        # Create next L matrix\n",
    "        l_i = np.identity(shape[0])\n",
    "        \n",
    "        # Calculate the row negations\n",
    "        for j in range(i+1, shape[0]):\n",
    "#             print(\"j: \", j)\n",
    "            l_i[j, i] = - a_i[j, i] / a_i[i, i]\n",
    "#         print(\"l_i: \\n\", l_i)\n",
    "\n",
    "        # Build up the eventual L matrix \n",
    "        l = l_i.dot(l)\n",
    "        l_s.append(l_i)\n",
    "        \n",
    "        # Apply current L matrix to current iteration of A\n",
    "        a_i = l_i.dot(a_i)\n",
    "#         print(\"a_i: \\n\", a_i, \"\\n\\n\")\n",
    "    \n",
    "    # Ivert L matrix for expected form\n",
    "    l = np.linalg.inv(l)\n",
    "    \n",
    "    # Capture U matrix for simple PA = LU\n",
    "    u = a_i\n",
    "    \n",
    "#     return p, l, u\n",
    "\n",
    "    # Create D by extracting diagonal of U\n",
    "    d = np.diag(np.diag(u))\n",
    "\n",
    "    # Dormalize diagonal of U\n",
    "    u /= np.diag(u)[:, None]\n",
    "    \n",
    "    return p, l, d, u"
   ]
  },
  {
   "cell_type": "markdown",
   "metadata": {},
   "source": [
    "We'll use test this with the given A:"
   ]
  },
  {
   "cell_type": "code",
   "execution_count": 3,
   "metadata": {},
   "outputs": [
    {
     "data": {
      "text/latex": [
       "$$A=\\begin{bmatrix}\n",
       "  4 & 7 & 0\\\\\n",
       "  2 & 2 & -6\\\\\n",
       "  3 & 2 & 1\\\\\n",
       "\\end{bmatrix}$$"
      ],
      "text/plain": [
       "<IPython.core.display.Math object>"
      ]
     },
     "metadata": {},
     "output_type": "display_data"
    }
   ],
   "source": [
    "a = np.array([[4, 7, 0],\n",
    "               [2, 2,-6],\n",
    "               [3, 2, 1]])\n",
    "display(Math('A=' + bmatrix(a)))"
   ]
  },
  {
   "cell_type": "markdown",
   "metadata": {},
   "source": [
    "Then run our function to compute P, L D, and U matrix for the following form:"
   ]
  },
  {
   "cell_type": "code",
   "execution_count": 4,
   "metadata": {},
   "outputs": [],
   "source": [
    "(P, L, D, U) = plud(a)"
   ]
  },
  {
   "cell_type": "code",
   "execution_count": 5,
   "metadata": {},
   "outputs": [
    {
     "data": {
      "text/latex": [
       "$$A=PLDU$$"
      ],
      "text/plain": [
       "<IPython.core.display.Math object>"
      ]
     },
     "metadata": {},
     "output_type": "display_data"
    }
   ],
   "source": [
    "eq3 = \"A=PLDU\"\n",
    "display(Math(eq3))"
   ]
  },
  {
   "cell_type": "code",
   "execution_count": 6,
   "metadata": {},
   "outputs": [
    {
     "data": {
      "text/latex": [
       "$$P=\\begin{bmatrix}\n",
       "  1. & 0. & 0.\\\\\n",
       "  0. & 1. & 0.\\\\\n",
       "  0. & 0. & 1.\\\\\n",
       "\\end{bmatrix}\\quad L=\\begin{bmatrix}\n",
       "  1. & 0. & 0.\\\\\n",
       "  0.5 & 1. & 0.\\\\\n",
       "  0.75 & 2.16666667 & 1.\\\\\n",
       "\\end{bmatrix}\\quad D=\\begin{bmatrix}\n",
       "  4. & 0. & 0.\\\\\n",
       "  0. & -1.5 & 0.\\\\\n",
       "  0. & 0. & 14.\\\\\n",
       "\\end{bmatrix}\\quad U=\\begin{bmatrix}\n",
       "  1. & 1.75 & 0.\\\\\n",
       "  -0. & 1. & 4.\\\\\n",
       "  0. & 0. & 1.\\\\\n",
       "\\end{bmatrix}$$"
      ],
      "text/plain": [
       "<IPython.core.display.Math object>"
      ]
     },
     "metadata": {},
     "output_type": "display_data"
    }
   ],
   "source": [
    "eq4 = 'P=' + bmatrix(P) + '\\quad ' + \\\n",
    "      'L=' + bmatrix(L) + '\\quad ' + \\\n",
    "      'D=' + bmatrix(D) + '\\quad ' + \\\n",
    "      'U=' + bmatrix(U)\n",
    "display(Math(eq4))"
   ]
  },
  {
   "cell_type": "markdown",
   "metadata": {},
   "source": [
    "If we then plug the found matixs back into the eq above, we see that we get back the orignal A:"
   ]
  },
  {
   "cell_type": "code",
   "execution_count": 7,
   "metadata": {},
   "outputs": [
    {
     "data": {
      "text/latex": [
       "$$A=\\begin{bmatrix}\n",
       "  4. & 7. & 0.\\\\\n",
       "  2. & 2. & -6.\\\\\n",
       "  3. & 2. & 1.\\\\\n",
       "\\end{bmatrix}$$"
      ],
      "text/plain": [
       "<IPython.core.display.Math object>"
      ]
     },
     "metadata": {},
     "output_type": "display_data"
    }
   ],
   "source": [
    "A2 = P.dot(L.dot(D.dot(U)))\n",
    "display(Math('A=' + bmatrix(A2)))"
   ]
  },
  {
   "cell_type": "markdown",
   "metadata": {},
   "source": [
    "### Comparison\n",
    "Now let us compare our implentation to the linuar algrabra library in [scipy.linalg.lu](https://docs.scipy.org/doc/scipy-0.15.0/reference/generated/scipy.linalg.lu.html#scipy.linalg.lu) using a previous [example](https://stackoverflow.com/a/45450574/2577586)."
   ]
  },
  {
   "cell_type": "code",
   "execution_count": 8,
   "metadata": {
    "collapsed": true
   },
   "outputs": [],
   "source": [
    "import numpy as np\n",
    "import scipy.linalg as la"
   ]
  },
  {
   "cell_type": "code",
   "execution_count": 9,
   "metadata": {
    "collapsed": true
   },
   "outputs": [],
   "source": [
    "(P, L, U) = la.lu(a)"
   ]
  },
  {
   "cell_type": "markdown",
   "metadata": {},
   "source": [
    "The scipy implementation returns only P, L and U for the form:"
   ]
  },
  {
   "cell_type": "code",
   "execution_count": 10,
   "metadata": {},
   "outputs": [
    {
     "data": {
      "text/latex": [
       "$$A=PLU$$"
      ],
      "text/plain": [
       "<IPython.core.display.Math object>"
      ]
     },
     "metadata": {},
     "output_type": "display_data"
    }
   ],
   "source": [
    "eq1 = \"A=PLU\"\n",
    "display(Math(eq1))"
   ]
  },
  {
   "cell_type": "code",
   "execution_count": 11,
   "metadata": {},
   "outputs": [
    {
     "data": {
      "text/latex": [
       "$$P=\\begin{bmatrix}\n",
       "  1. & 0. & 0.\\\\\n",
       "  0. & 0. & 1.\\\\\n",
       "  0. & 1. & 0.\\\\\n",
       "\\end{bmatrix}\\quad L=\\begin{bmatrix}\n",
       "  1. & 0. & 0.\\\\\n",
       "  0.75 & 1. & 0.\\\\\n",
       "  0.5 & 0.46153846 & 1.\\\\\n",
       "\\end{bmatrix}\\quad U=\\begin{bmatrix}\n",
       "  4. & 7. & 0.\\\\\n",
       "  0. & -3.25 & 1.\\\\\n",
       "  0. & 0. & -6.46153846\\\\\n",
       "\\end{bmatrix}$$"
      ],
      "text/plain": [
       "<IPython.core.display.Math object>"
      ]
     },
     "metadata": {},
     "output_type": "display_data"
    }
   ],
   "source": [
    "eq2 = 'P=' + bmatrix(P) + '\\quad ' + \\\n",
    "      'L=' + bmatrix(L) + '\\quad ' + \\\n",
    "      'U=' + bmatrix(U)\n",
    "display(Math(eq2))"
   ]
  },
  {
   "cell_type": "markdown",
   "metadata": {},
   "source": [
    "We can recompute U and D by extracting the diagle along U for D, then normalizing U along the diagonal. "
   ]
  },
  {
   "cell_type": "code",
   "execution_count": 12,
   "metadata": {},
   "outputs": [],
   "source": [
    "D = np.diag(np.diag(U))\n",
    "U /= np.diag(U)[:, None]"
   ]
  },
  {
   "cell_type": "code",
   "execution_count": 13,
   "metadata": {},
   "outputs": [
    {
     "data": {
      "text/latex": [
       "$$A=PLDU$$"
      ],
      "text/plain": [
       "<IPython.core.display.Math object>"
      ]
     },
     "metadata": {},
     "output_type": "display_data"
    }
   ],
   "source": [
    "eq3 = \"A=PLDU\"\n",
    "display(Math(eq3))"
   ]
  },
  {
   "cell_type": "code",
   "execution_count": 14,
   "metadata": {},
   "outputs": [
    {
     "data": {
      "text/latex": [
       "$$P=\\begin{bmatrix}\n",
       "  1. & 0. & 0.\\\\\n",
       "  0. & 0. & 1.\\\\\n",
       "  0. & 1. & 0.\\\\\n",
       "\\end{bmatrix}\\quad L=\\begin{bmatrix}\n",
       "  1. & 0. & 0.\\\\\n",
       "  0.75 & 1. & 0.\\\\\n",
       "  0.5 & 0.46153846 & 1.\\\\\n",
       "\\end{bmatrix}\\quad D=\\begin{bmatrix}\n",
       "  4. & 0. & 0.\\\\\n",
       "  0. & -3.25 & 0.\\\\\n",
       "  0. & 0. & -6.46153846\\\\\n",
       "\\end{bmatrix}\\quad U=\\begin{bmatrix}\n",
       "  1. & 1.75 & 0.\\\\\n",
       "  -0. & 1. & -0.30769231\\\\\n",
       "  -0. & -0. & 1.\\\\\n",
       "\\end{bmatrix}$$"
      ],
      "text/plain": [
       "<IPython.core.display.Math object>"
      ]
     },
     "metadata": {},
     "output_type": "display_data"
    }
   ],
   "source": [
    "eq4 = 'P=' + bmatrix(P) + '\\quad ' + \\\n",
    "      'L=' + bmatrix(L) + '\\quad ' + \\\n",
    "      'D=' + bmatrix(D) + '\\quad ' + \\\n",
    "      'U=' + bmatrix(U)\n",
    "display(Math(eq4))"
   ]
  },
  {
   "cell_type": "markdown",
   "metadata": {},
   "source": [
    "Agian, we get back the same A by re-multiplying the matrices as in the eq above."
   ]
  },
  {
   "cell_type": "code",
   "execution_count": 15,
   "metadata": {},
   "outputs": [
    {
     "data": {
      "text/latex": [
       "$$A=\\begin{bmatrix}\n",
       "  4. & 7. & 0.\\\\\n",
       "  2. & 2. & -6.\\\\\n",
       "  3. & 2. & 1.\\\\\n",
       "\\end{bmatrix}$$"
      ],
      "text/plain": [
       "<IPython.core.display.Math object>"
      ]
     },
     "metadata": {},
     "output_type": "display_data"
    }
   ],
   "source": [
    "A2 = P.dot(L.dot(D.dot(U)))\n",
    "display(Math('A=' + bmatrix(A2)))"
   ]
  },
  {
   "cell_type": "markdown",
   "metadata": {},
   "source": [
    "## 2. \n",
    "> Compute the $PA=LDU$ decomposition and the SVD decomposition for each of the following matrices: (you can use your own LDU implementation and it is OK to use a pre-defined implementation for SVD)."
   ]
  },
  {
   "cell_type": "markdown",
   "metadata": {},
   "source": [
    "Again, runing our custom $PA=LDU$ decomposition function on the following matrices, along with SVD, then reconstruction A from the returned matrices to note behavior."
   ]
  },
  {
   "cell_type": "markdown",
   "metadata": {},
   "source": [
    "### a."
   ]
  },
  {
   "cell_type": "code",
   "execution_count": 16,
   "metadata": {},
   "outputs": [
    {
     "data": {
      "text/latex": [
       "$$A_1=\\begin{bmatrix}\n",
       "  4 & 7 & 0\\\\\n",
       "  2 & 2 & -6\\\\\n",
       "  3 & 2 & 1\\\\\n",
       "\\end{bmatrix}$$"
      ],
      "text/plain": [
       "<IPython.core.display.Math object>"
      ]
     },
     "metadata": {},
     "output_type": "display_data"
    }
   ],
   "source": [
    "a1 = np.array([[4, 7, 0],\n",
    "               [2, 2,-6],\n",
    "               [3, 2, 1]])\n",
    "display(Math('A_1=' + bmatrix(a1)))"
   ]
  },
  {
   "cell_type": "code",
   "execution_count": 17,
   "metadata": {},
   "outputs": [
    {
     "data": {
      "text/latex": [
       "$$P=\\begin{bmatrix}\n",
       "  1. & 0. & 0.\\\\\n",
       "  0. & 1. & 0.\\\\\n",
       "  0. & 0. & 1.\\\\\n",
       "\\end{bmatrix}\\quad L=\\begin{bmatrix}\n",
       "  1. & 0. & 0.\\\\\n",
       "  0.5 & 1. & 0.\\\\\n",
       "  0.75 & 2.16666667 & 1.\\\\\n",
       "\\end{bmatrix}\\quad D=\\begin{bmatrix}\n",
       "  4. & 0. & 0.\\\\\n",
       "  0. & -1.5 & 0.\\\\\n",
       "  0. & 0. & 14.\\\\\n",
       "\\end{bmatrix}\\quad U=\\begin{bmatrix}\n",
       "  1. & 1.75 & 0.\\\\\n",
       "  -0. & 1. & 4.\\\\\n",
       "  0. & 0. & 1.\\\\\n",
       "\\end{bmatrix}$$"
      ],
      "text/plain": [
       "<IPython.core.display.Math object>"
      ]
     },
     "metadata": {},
     "output_type": "display_data"
    },
    {
     "data": {
      "text/latex": [
       "$$A=\\begin{bmatrix}\n",
       "  4. & 7. & 0.\\\\\n",
       "  2. & 2. & -6.\\\\\n",
       "  3. & 2. & 1.\\\\\n",
       "\\end{bmatrix}$$"
      ],
      "text/plain": [
       "<IPython.core.display.Math object>"
      ]
     },
     "metadata": {},
     "output_type": "display_data"
    }
   ],
   "source": [
    "(P, L, D, U) = plud(a1)\n",
    "\n",
    "eq4 = 'P=' + bmatrix(P) + '\\quad ' + \\\n",
    "      'L=' + bmatrix(L) + '\\quad ' + \\\n",
    "      'D=' + bmatrix(D) + '\\quad ' + \\\n",
    "      'U=' + bmatrix(U)\n",
    "display(Math(eq4))\n",
    "\n",
    "A2 = P.dot(L.dot(D.dot(U)))\n",
    "display(Math('A=' + bmatrix(A2)))"
   ]
  },
  {
   "cell_type": "code",
   "execution_count": 18,
   "metadata": {},
   "outputs": [
    {
     "data": {
      "text/latex": [
       "$$U=\\begin{bmatrix}\n",
       "  0.83108771 & 0.36392168 & 0.42054041\\\\\n",
       "  0.45440389 & -0.88032036 & -0.13621004\\\\\n",
       "  0.3206405 & 0.30429769 & -0.89699085\\\\\n",
       "\\end{bmatrix}\\quad \\ S=\\begin{bmatrix}\n",
       "  9.33057832 & 0. & 0.\\\\\n",
       "  0. & 5.78987054 & 0.\\\\\n",
       "  0. & 0. & 1.55489788\\\\\n",
       "\\end{bmatrix}$$"
      ],
      "text/plain": [
       "<IPython.core.display.Math object>"
      ]
     },
     "metadata": {},
     "output_type": "display_data"
    },
    {
     "data": {
      "text/latex": [
       "$$V=\\begin{bmatrix}\n",
       "  0.55678008 & 0.7896298 & -0.25783856\\\\\n",
       "  0.10500046 & 0.24100823 & 0.96482638\\\\\n",
       "  -0.82399688 & 0.56426927 & -0.05127709\\\\\n",
       "\\end{bmatrix}$$"
      ],
      "text/plain": [
       "<IPython.core.display.Math object>"
      ]
     },
     "metadata": {},
     "output_type": "display_data"
    },
    {
     "data": {
      "text/latex": [
       "$$A=\\begin{bmatrix}\n",
       "  4.00000000e+00 & 7.00000000e+00 & 7.99719281e-16\\\\\n",
       "  2.00000000e+00 & 2.00000000e+00 & -6.00000000e+00\\\\\n",
       "  3.00000000e+00 & 2.00000000e+00 & 1.00000000e+00\\\\\n",
       "\\end{bmatrix}$$"
      ],
      "text/plain": [
       "<IPython.core.display.Math object>"
      ]
     },
     "metadata": {},
     "output_type": "display_data"
    }
   ],
   "source": [
    "(U, s, V) = np.linalg.svd(a1)\n",
    "\n",
    "# full_matrices=True\n",
    "# S = np.zeros(U.shape, dtype=complex)\n",
    "# S[:U.shape[0], :U.shape[1]] = np.diag(s)\n",
    "\n",
    "# full_matrices=False\n",
    "S = np.diag(s)\n",
    "\n",
    "eq4_svd = 'U=' + bmatrix(U) + '\\quad \\\\ ' + \\\n",
    "          'S=' + bmatrix(S)\n",
    "display(Math(eq4_svd))\n",
    "\n",
    "eq4_svd = 'V=' + bmatrix(V)\n",
    "display(Math(eq4_svd))\n",
    "\n",
    "A2 = np.dot(U, np.dot(S, V))\n",
    "display(Math('A=' + bmatrix(A2)))"
   ]
  },
  {
   "cell_type": "markdown",
   "metadata": {},
   "source": [
    "Here we'll note that none of the values in U, S, V are terribly small or large, so we are not too close too a singularity. Additinaly, our reconstruction of A is quite accurate, with some small rounding error for value 0 in A."
   ]
  },
  {
   "cell_type": "markdown",
   "metadata": {},
   "source": [
    "### b."
   ]
  },
  {
   "cell_type": "code",
   "execution_count": 19,
   "metadata": {},
   "outputs": [
    {
     "data": {
      "text/latex": [
       "$$A_2=\\begin{bmatrix}\n",
       "  1 & 0 & 0 & 0 & 1\\\\\n",
       "  0 & 1 & 0 & 1 & 0\\\\\n",
       "  0 & 0 & 1 & 0 & 0\\\\\n",
       "  0 & 1 & 0 & 0 & 0\\\\\n",
       "  1 & 0 & 0 & 0 & 0\\\\\n",
       "\\end{bmatrix}$$"
      ],
      "text/plain": [
       "<IPython.core.display.Math object>"
      ]
     },
     "metadata": {},
     "output_type": "display_data"
    }
   ],
   "source": [
    "a2 = np.array([[1, 0, 0, 0, 1],\n",
    "               [0, 1, 0, 1, 0],\n",
    "               [0, 0, 1, 0, 0],\n",
    "               [0, 1, 0, 0, 0],\n",
    "               [1, 0, 0, 0, 0],])\n",
    "display(Math('A_2=' + bmatrix(a2)))"
   ]
  },
  {
   "cell_type": "code",
   "execution_count": 22,
   "metadata": {},
   "outputs": [
    {
     "data": {
      "text/latex": [
       "$$P=\\begin{bmatrix}\n",
       "  1. & 0. & 0. & 0. & 0.\\\\\n",
       "  0. & 1. & 0. & 0. & 0.\\\\\n",
       "  0. & 0. & 1. & 0. & 0.\\\\\n",
       "  0. & 0. & 0. & 1. & 0.\\\\\n",
       "  0. & 0. & 0. & 0. & 1.\\\\\n",
       "\\end{bmatrix}\\quad L=\\begin{bmatrix}\n",
       "  1. & 0. & 0. & 0. & 0.\\\\\n",
       "  0. & 1. & 0. & 0. & 0.\\\\\n",
       "  0. & 0. & 1. & 0. & 0.\\\\\n",
       "  0. & 1. & 0. & 1. & 0.\\\\\n",
       "  1. & 0. & 0. & 0. & 1.\\\\\n",
       "\\end{bmatrix}\\quad D=\\begin{bmatrix}\n",
       "  1. & 0. & 0. & 0. & 0.\\\\\n",
       "  0. & 1. & 0. & 0. & 0.\\\\\n",
       "  0. & 0. & 1. & 0. & 0.\\\\\n",
       "  0. & 0. & 0. & -1. & 0.\\\\\n",
       "  0. & 0. & 0. & 0. & -1.\\\\\n",
       "\\end{bmatrix}\\quad U=\\begin{bmatrix}\n",
       "  1. & 0. & 0. & 0. & 1.\\\\\n",
       "  0. & 1. & 0. & 1. & 0.\\\\\n",
       "  0. & 0. & 1. & 0. & 0.\\\\\n",
       "  -0. & -0. & -0. & 1. & -0.\\\\\n",
       "  -0. & -0. & -0. & -0. & 1.\\\\\n",
       "\\end{bmatrix}$$"
      ],
      "text/plain": [
       "<IPython.core.display.Math object>"
      ]
     },
     "metadata": {},
     "output_type": "display_data"
    },
    {
     "data": {
      "text/latex": [
       "$$A=\\begin{bmatrix}\n",
       "  1. & 0. & 0. & 0. & 1.\\\\\n",
       "  0. & 1. & 0. & 1. & 0.\\\\\n",
       "  0. & 0. & 1. & 0. & 0.\\\\\n",
       "  0. & 1. & 0. & 0. & 0.\\\\\n",
       "  1. & 0. & 0. & 0. & 0.\\\\\n",
       "\\end{bmatrix}$$"
      ],
      "text/plain": [
       "<IPython.core.display.Math object>"
      ]
     },
     "metadata": {},
     "output_type": "display_data"
    }
   ],
   "source": [
    "(P, L, D, U) = plud(a2)\n",
    "\n",
    "eq4 = 'P=' + bmatrix(P) + '\\quad ' + \\\n",
    "      'L=' + bmatrix(L) + '\\quad ' + \\\n",
    "      'D=' + bmatrix(D) + '\\quad ' + \\\n",
    "      'U=' + bmatrix(U)\n",
    "display(Math(eq4))\n",
    "\n",
    "A2 = P.dot(L.dot(D.dot(U)))\n",
    "display(Math('A=' + bmatrix(A2)))"
   ]
  },
  {
   "cell_type": "code",
   "execution_count": 24,
   "metadata": {},
   "outputs": [
    {
     "data": {
      "text/latex": [
       "$$U=\\begin{bmatrix}\n",
       "  -0.85065081 & 0. & 0. & -0.52573111 & 0.\\\\\n",
       "  0. & -0.85065081 & 0. & 0. & 0.52573111\\\\\n",
       "  0. & 0. & 1. & 0. & 0.\\\\\n",
       "  0. & -0.52573111 & 0. & 0. & -0.85065081\\\\\n",
       "  -0.52573111 & 0. & 0. & 0.85065081 & 0.\\\\\n",
       "\\end{bmatrix}$$"
      ],
      "text/plain": [
       "<IPython.core.display.Math object>"
      ]
     },
     "metadata": {},
     "output_type": "display_data"
    },
    {
     "data": {
      "text/latex": [
       "$$V=\\begin{bmatrix}\n",
       "  1.61803399 & 0. & 0. & 0. & 0.\\\\\n",
       "  0. & 1.61803399 & 0. & 0. & 0.\\\\\n",
       "  0. & 0. & 1. & 0. & 0.\\\\\n",
       "  0. & 0. & 0. & 0.61803399 & 0.\\\\\n",
       "  0. & 0. & 0. & 0. & 0.61803399\\\\\n",
       "\\end{bmatrix}$$"
      ],
      "text/plain": [
       "<IPython.core.display.Math object>"
      ]
     },
     "metadata": {},
     "output_type": "display_data"
    },
    {
     "data": {
      "text/latex": [
       "$$V=\\begin{bmatrix}\n",
       "  -0.85065081 & 0. & 0. & 0. & -0.52573111\\\\\n",
       "  -0. & -0.85065081 & -0. & -0.52573111 & 0.\\\\\n",
       "  0. & 0. & 1. & 0. & 0.\\\\\n",
       "  0.52573111 & 0. & 0. & 0. & -0.85065081\\\\\n",
       "  -0. & -0.52573111 & -0. & 0.85065081 & 0.\\\\\n",
       "\\end{bmatrix}$$"
      ],
      "text/plain": [
       "<IPython.core.display.Math object>"
      ]
     },
     "metadata": {},
     "output_type": "display_data"
    },
    {
     "data": {
      "text/latex": [
       "$$A=\\begin{bmatrix}\n",
       "  1.00000000e+00 & 0.00000000e+00 & 0.00000000e+00 & 0.00000000e+00\\\\\n",
       "  1.00000000e+00\\\\\n",
       "  0.00000000e+00 & 1.00000000e+00 & 0.00000000e+00 & 1.00000000e+00\\\\\n",
       "  0.00000000e+00\\\\\n",
       "  0.00000000e+00 & 0.00000000e+00 & 1.00000000e+00 & 0.00000000e+00\\\\\n",
       "  0.00000000e+00\\\\\n",
       "  0.00000000e+00 & 1.00000000e+00 & 0.00000000e+00 & -2.68028381e-17\\\\\n",
       "  0.00000000e+00\\\\\n",
       "  1.00000000e+00 & 0.00000000e+00 & 0.00000000e+00 & 0.00000000e+00\\\\\n",
       "  4.52894042e-17\\\\\n",
       "\\end{bmatrix}$$"
      ],
      "text/plain": [
       "<IPython.core.display.Math object>"
      ]
     },
     "metadata": {},
     "output_type": "display_data"
    }
   ],
   "source": [
    "(U, s, V) = np.linalg.svd(a2, full_matrices=False)\n",
    "\n",
    "# full_matrices=True\n",
    "# S = np.zeros(U.shape, dtype=complex)\n",
    "# S[:U.shape[0], :U.shape[1]] = np.diag(s)\n",
    "\n",
    "# full_matrices=False\n",
    "S = np.diag(s)\n",
    "\n",
    "eq4_svd = 'U=' + bmatrix(U)\n",
    "display(Math(eq4_svd))\n",
    "\n",
    "eq4_svd = 'V=' + bmatrix(S)\n",
    "display(Math(eq4_svd))\n",
    "\n",
    "eq4_svd = 'V=' + bmatrix(V)\n",
    "display(Math(eq4_svd))\n",
    "\n",
    "A2 = np.dot(U, np.dot(S, V))\n",
    "display(Math('A=' + bmatrix(A2)))"
   ]
  },
  {
   "cell_type": "markdown",
   "metadata": {},
   "source": [
    "Again, nothing to extream in U, S, or V. All values of S are well within the same magnitude."
   ]
  },
  {
   "cell_type": "markdown",
   "metadata": {},
   "source": [
    "Intrestingly, I think I may have a small error in my permutation matrix generation, as I need to not swap `np.absolute(pivot_search_space)` to get this PLDU to reconstruct corectly, so perhaps its an index error elseware this corner case touches.\n",
    "``` python\n",
    "        abs_pivot_search_space = np.absolute(pivot_search_space)\n",
    "```"
   ]
  },
  {
   "cell_type": "markdown",
   "metadata": {},
   "source": [
    "### c."
   ]
  },
  {
   "cell_type": "code",
   "execution_count": 25,
   "metadata": {},
   "outputs": [
    {
     "data": {
      "text/latex": [
       "$$A_3=\\begin{bmatrix}\n",
       "  2 & 2 & 5\\\\\n",
       "  3 & 2 & 5\\\\\n",
       "  1 & 1 & 5\\\\\n",
       "\\end{bmatrix}$$"
      ],
      "text/plain": [
       "<IPython.core.display.Math object>"
      ]
     },
     "metadata": {},
     "output_type": "display_data"
    }
   ],
   "source": [
    "a3 = np.array([[2, 2, 5],\n",
    "               [3, 2, 5],\n",
    "               [1, 1, 5]])\n",
    "display(Math('A_3=' + bmatrix(a3)))"
   ]
  },
  {
   "cell_type": "code",
   "execution_count": 26,
   "metadata": {},
   "outputs": [
    {
     "data": {
      "text/latex": [
       "$$P=\\begin{bmatrix}\n",
       "  0. & 1. & 0.\\\\\n",
       "  1. & 0. & 0.\\\\\n",
       "  0. & 0. & 1.\\\\\n",
       "\\end{bmatrix}\\quad L=\\begin{bmatrix}\n",
       "  1. & 0. & 0.\\\\\n",
       "  0.66666667 & 1. & 0.\\\\\n",
       "  0.33333333 & 0.5 & 1.\\\\\n",
       "\\end{bmatrix}\\quad D=\\begin{bmatrix}\n",
       "  3. & 0. & 0.\\\\\n",
       "  0. & 0.66666667 & 0.\\\\\n",
       "  0. & 0. & 2.5\\\\\n",
       "\\end{bmatrix}\\quad U=\\begin{bmatrix}\n",
       "  1. & 0.66666667 & 1.66666667\\\\\n",
       "  0. & 1. & 2.5\\\\\n",
       "  0. & 0. & 1.\\\\\n",
       "\\end{bmatrix}$$"
      ],
      "text/plain": [
       "<IPython.core.display.Math object>"
      ]
     },
     "metadata": {},
     "output_type": "display_data"
    },
    {
     "data": {
      "text/latex": [
       "$$A=\\begin{bmatrix}\n",
       "  2. & 2. & 5.\\\\\n",
       "  3. & 2. & 5.\\\\\n",
       "  1. & 1. & 5.\\\\\n",
       "\\end{bmatrix}$$"
      ],
      "text/plain": [
       "<IPython.core.display.Math object>"
      ]
     },
     "metadata": {},
     "output_type": "display_data"
    }
   ],
   "source": [
    "(P, L, D, U) = plud(a3)\n",
    "\n",
    "eq4 = 'P=' + bmatrix(P) + '\\quad ' + \\\n",
    "      'L=' + bmatrix(L) + '\\quad ' + \\\n",
    "      'D=' + bmatrix(D) + '\\quad ' + \\\n",
    "      'U=' + bmatrix(U)\n",
    "display(Math(eq4))\n",
    "\n",
    "A2 = P.dot(L.dot(D.dot(U)))\n",
    "display(Math('A=' + bmatrix(A2)))"
   ]
  },
  {
   "cell_type": "code",
   "execution_count": 34,
   "metadata": {},
   "outputs": [
    {
     "data": {
      "text/latex": [
       "$$U=\\begin{bmatrix}\n",
       "  -0.58592436 & -0.04442838 & -0.80914693\\\\\n",
       "  -0.62305157 & -0.61376658 & 0.48486836\\\\\n",
       "  -0.51816926 & 0.78823645 & 0.33193962\\\\\n",
       "\\end{bmatrix}\\quad \\ S=\\begin{bmatrix}\n",
       "  9.79103061 & 0. & 0.\\\\\n",
       "  0. & 1.4162264 & 0.\\\\\n",
       "  0. & 0. & 0.36058604\\\\\n",
       "\\end{bmatrix}$$"
      ],
      "text/plain": [
       "<IPython.core.display.Math object>"
      ]
     },
     "metadata": {},
     "output_type": "display_data"
    },
    {
     "data": {
      "text/latex": [
       "$$V=\\begin{bmatrix}\n",
       "  -0.36351359 & -0.29987866 & -0.88200378\\\\\n",
       "  -0.8063118 & -0.37293011 & 0.45911264\\\\\n",
       "  0.46660385 & -0.87806373 & 0.10623054\\\\\n",
       "\\end{bmatrix}$$"
      ],
      "text/plain": [
       "<IPython.core.display.Math object>"
      ]
     },
     "metadata": {},
     "output_type": "display_data"
    },
    {
     "data": {
      "text/latex": [
       "$$A=\\begin{bmatrix}\n",
       "  2. & 2. & 5.\\\\\n",
       "  3. & 2. & 5.\\\\\n",
       "  1. & 1. & 5.\\\\\n",
       "\\end{bmatrix}$$"
      ],
      "text/plain": [
       "<IPython.core.display.Math object>"
      ]
     },
     "metadata": {},
     "output_type": "display_data"
    }
   ],
   "source": [
    "(U, s, V) = np.linalg.svd(a3, full_matrices=False)\n",
    "\n",
    "# full_matrices=True\n",
    "# S = np.zeros(U.shape, dtype=complex)\n",
    "# S[:U.shape[0], :U.shape[1]] = np.diag(s)\n",
    "\n",
    "# full_matrices=False\n",
    "S = np.diag(s)\n",
    "\n",
    "eq4_svd = 'U=' + bmatrix(U) + '\\quad \\\\ ' + \\\n",
    "          'S=' + bmatrix(S)\n",
    "display(Math(eq4_svd))\n",
    "\n",
    "eq4_svd = 'V=' + bmatrix(V)\n",
    "display(Math(eq4_svd))\n",
    "\n",
    "A2 = np.dot(U, np.dot(S, V))\n",
    "display(Math('A=' + bmatrix(A2)))"
   ]
  },
  {
   "cell_type": "markdown",
   "metadata": {},
   "source": [
    "The reconstruction of A is spot on, and again nothing too small in S."
   ]
  },
  {
   "cell_type": "markdown",
   "metadata": {},
   "source": [
    "## 3. \n",
    "> Solve the following system of equations $Ax = b$ given the below values for $A$ and $b$. For each system specify if it has zero, one or more solutions. For the systems with zero solutions give the SVD solution. Relate your answers to the SVD decomposition."
   ]
  },
  {
   "cell_type": "markdown",
   "metadata": {},
   "source": [
    "### a."
   ]
  },
  {
   "cell_type": "code",
   "execution_count": 27,
   "metadata": {},
   "outputs": [
    {
     "data": {
      "text/latex": [
       "$$A=\\begin{bmatrix}\n",
       "  2 & 1 & 3\\\\\n",
       "  2 & 1 & 2\\\\\n",
       "  5 & 5 & 5\\\\\n",
       "\\end{bmatrix}\\quad b=\\begin{bmatrix}\n",
       "  5\\\\\n",
       "  -5\\\\\n",
       "  0\\\\\n",
       "\\end{bmatrix}$$"
      ],
      "text/plain": [
       "<IPython.core.display.Math object>"
      ]
     },
     "metadata": {},
     "output_type": "display_data"
    }
   ],
   "source": [
    "a = np.array([[2, 1, 3],\n",
    "              [2, 1, 2],\n",
    "              [5, 5, 5]])\n",
    "b = np.array([[5],\n",
    "              [-5],\n",
    "              [0]])\n",
    "display(Math('A=' + bmatrix(a) + '\\quad ' + 'b=' + bmatrix(b)))"
   ]
  },
  {
   "cell_type": "markdown",
   "metadata": {},
   "source": [
    "By solving for the system of equations, we arive at a well defined solution:"
   ]
  },
  {
   "cell_type": "code",
   "execution_count": 28,
   "metadata": {},
   "outputs": [
    {
     "data": {
      "text/latex": [
       "$$x=\\begin{bmatrix}\n",
       "  -15.\\\\\n",
       "  5.\\\\\n",
       "  10.\\\\\n",
       "\\end{bmatrix}$$"
      ],
      "text/plain": [
       "<IPython.core.display.Math object>"
      ]
     },
     "metadata": {},
     "output_type": "display_data"
    }
   ],
   "source": [
    "x = np.linalg.solve(a, b)\n",
    "display(Math('x=' + bmatrix(x)))"
   ]
  },
  {
   "cell_type": "code",
   "execution_count": 29,
   "metadata": {},
   "outputs": [
    {
     "data": {
      "text/latex": [
       "$$Det(A)=5.0\\quad A^{-1}=\\begin{bmatrix}\n",
       "  -1.00000000e+00 & 2.00000000e+00 & -2.00000000e-01\\\\\n",
       "  -1.11022302e-16 & -1.00000000e+00 & 4.00000000e-01\\\\\n",
       "  1.00000000e+00 & -1.00000000e+00 & 0.00000000e+00\\\\\n",
       "\\end{bmatrix}$$"
      ],
      "text/plain": [
       "<IPython.core.display.Math object>"
      ]
     },
     "metadata": {},
     "output_type": "display_data"
    }
   ],
   "source": [
    "a_det = np.linalg.det(a)\n",
    "a_1 = np.linalg.inv(a)\n",
    "display(Math('Det(A)=' + str(a_det) + '\\quad ' + 'A^{-1}=' + bmatrix(a_1)))"
   ]
  },
  {
   "cell_type": "markdown",
   "metadata": {},
   "source": [
    "Here we see that the determinant of A is well behaved, meaing that A is not very singular."
   ]
  },
  {
   "cell_type": "code",
   "execution_count": 30,
   "metadata": {},
   "outputs": [
    {
     "data": {
      "text/latex": [
       "$$U=\\begin{bmatrix}\n",
       "  -0.36351359 & 0.8063118 & 0.46660385\\\\\n",
       "  -0.29987866 & 0.37293011 & -0.87806373\\\\\n",
       "  -0.88200378 & -0.45911264 & 0.10623054\\\\\n",
       "\\end{bmatrix}\\quad \\ S=\\begin{bmatrix}\n",
       "  9.79103061 & 0. & 0.\\\\\n",
       "  0. & 1.4162264 & 0.\\\\\n",
       "  0. & 0. & 0.36058604\\\\\n",
       "\\end{bmatrix}$$"
      ],
      "text/plain": [
       "<IPython.core.display.Math object>"
      ]
     },
     "metadata": {},
     "output_type": "display_data"
    },
    {
     "data": {
      "text/latex": [
       "$$V=\\begin{bmatrix}\n",
       "  -0.58592436 & -0.51816926 & -0.62305157\\\\\n",
       "  0.04442838 & -0.78823645 & 0.61376658\\\\\n",
       "  -0.80914693 & 0.33193962 & 0.48486836\\\\\n",
       "\\end{bmatrix}$$"
      ],
      "text/plain": [
       "<IPython.core.display.Math object>"
      ]
     },
     "metadata": {},
     "output_type": "display_data"
    },
    {
     "data": {
      "text/latex": [
       "$$x=\\begin{bmatrix}\n",
       "  -12.39094986\\\\\n",
       "  10.23654626\\\\\n",
       "  9.57483588\\\\\n",
       "\\end{bmatrix}$$"
      ],
      "text/plain": [
       "<IPython.core.display.Math object>"
      ]
     },
     "metadata": {},
     "output_type": "display_data"
    }
   ],
   "source": [
    "(U, s, V) = np.linalg.svd(a, full_matrices=False)\n",
    "\n",
    "# full_matrices=True\n",
    "# S = np.zeros(U.shape, dtype=complex)\n",
    "# S[:U.shape[0], :U.shape[1]] = np.diag(s)\n",
    "\n",
    "# full_matrices=False\n",
    "S = np.diag(s)\n",
    "\n",
    "eq4_svd = 'U=' + bmatrix(U) + '\\quad \\\\ ' + \\\n",
    "          'S=' + bmatrix(S)\n",
    "display(Math(eq4_svd))\n",
    "\n",
    "eq4_svd = 'V=' + bmatrix(V)\n",
    "display(Math(eq4_svd))\n",
    "\n",
    "x = np.dot(V, np.dot(np.linalg.inv(S), np.dot(np.transpose(U), b)))\n",
    "display(Math('x=' + bmatrix(x)))"
   ]
  },
  {
   "cell_type": "markdown",
   "metadata": {},
   "source": [
    "With the SVD solution close to the original, it is more likely that only one solution exist."
   ]
  },
  {
   "cell_type": "markdown",
   "metadata": {},
   "source": [
    "### b."
   ]
  },
  {
   "cell_type": "code",
   "execution_count": 107,
   "metadata": {},
   "outputs": [
    {
     "data": {
      "text/latex": [
       "$$A=\\begin{bmatrix}\n",
       "  4 & 7 & 0\\\\\n",
       "  2 & 2 & -6\\\\\n",
       "  1 & 2 & 1\\\\\n",
       "\\end{bmatrix}\\quad b=\\begin{bmatrix}\n",
       "  3\\\\\n",
       "  5\\\\\n",
       "  1\\\\\n",
       "\\end{bmatrix}$$"
      ],
      "text/plain": [
       "<IPython.core.display.Math object>"
      ]
     },
     "metadata": {},
     "output_type": "display_data"
    }
   ],
   "source": [
    "a = np.array([[4, 7, 0],\n",
    "              [2, 2, -6],\n",
    "              [1, 2, 1]])\n",
    "b = np.array([[3],\n",
    "              [5],\n",
    "              [1]])\n",
    "display(Math('A=' + bmatrix(a) + '\\quad ' + 'b=' + bmatrix(b)))"
   ]
  },
  {
   "cell_type": "markdown",
   "metadata": {},
   "source": [
    "By solving for the system of equations, we arive at a ill defined solution:"
   ]
  },
  {
   "cell_type": "code",
   "execution_count": 108,
   "metadata": {},
   "outputs": [
    {
     "data": {
      "text/latex": [
       "$$x=\\begin{bmatrix}\n",
       "  1.05083991e+17\\\\\n",
       "  -6.00479950e+16\\\\\n",
       "  1.50119988e+16\\\\\n",
       "\\end{bmatrix}$$"
      ],
      "text/plain": [
       "<IPython.core.display.Math object>"
      ]
     },
     "metadata": {},
     "output_type": "display_data"
    }
   ],
   "source": [
    "x = np.linalg.solve(a, b)\n",
    "display(Math('x=' + bmatrix(x)))"
   ]
  },
  {
   "cell_type": "code",
   "execution_count": 109,
   "metadata": {},
   "outputs": [
    {
     "data": {
      "text/latex": [
       "$$Det(A)=-3.33066907388e-16\\quad A^{-1}=\\begin{bmatrix}\n",
       "  -4.20335965e+16 & 2.10167983e+16 & 1.26100790e+17\\\\\n",
       "  2.40191980e+16 & -1.20095990e+16 & -7.20575940e+16\\\\\n",
       "  -6.00479950e+15 & 3.00239975e+15 & 1.80143985e+16\\\\\n",
       "\\end{bmatrix}$$"
      ],
      "text/plain": [
       "<IPython.core.display.Math object>"
      ]
     },
     "metadata": {},
     "output_type": "display_data"
    }
   ],
   "source": [
    "a_det = np.linalg.det(a)\n",
    "a_1 = np.linalg.inv(a)\n",
    "display(Math('Det(A)=' + str(a_det) + '\\quad ' + 'A^{-1}=' + bmatrix(a_1)))"
   ]
  },
  {
   "cell_type": "markdown",
   "metadata": {},
   "source": [
    "However, we see that the determinant of A is quite close to 0, meaing that A is almost singular."
   ]
  },
  {
   "cell_type": "code",
   "execution_count": 110,
   "metadata": {},
   "outputs": [
    {
     "data": {
      "text/latex": [
       "$$U=\\begin{bmatrix}\n",
       "  -0.84780042 & 0.42857143 & -0.31234752\\\\\n",
       "  -0.49083182 & -0.85714286 & 0.15617376\\\\\n",
       "  -0.20079484 & 0.28571429 & 0.93704257\\\\\n",
       "\\end{bmatrix}\\quad \\ S=\\begin{bmatrix}\n",
       "  9.05538514e+00 & 0.00000000e+00 & 0.00000000e+00\\\\\n",
       "  0.00000000e+00 & 5.74456265e+00 & 0.00000000e+00\\\\\n",
       "  0.00000000e+00 & 0.00000000e+00 & 1.05319976e-16\\\\\n",
       "\\end{bmatrix}$$"
      ],
      "text/plain": [
       "<IPython.core.display.Math object>"
      ]
     },
     "metadata": {},
     "output_type": "display_data"
    },
    {
     "data": {
      "text/latex": [
       "$$V=\\begin{bmatrix}\n",
       "  -0.50507627 & -0.80812204 & 0.30304576\\\\\n",
       "  0.04973647 & 0.32328708 & 0.94499299\\\\\n",
       "  0.86164044 & -0.49236596 & 0.12309149\\\\\n",
       "\\end{bmatrix}$$"
      ],
      "text/plain": [
       "<IPython.core.display.Math object>"
      ]
     },
     "metadata": {},
     "output_type": "display_data"
    },
    {
     "data": {
      "text/latex": [
       "$$x=\\begin{bmatrix}\n",
       "  2.24685756e+15\\\\\n",
       "  7.00641587e+15\\\\\n",
       "  9.12631296e+14\\\\\n",
       "\\end{bmatrix}$$"
      ],
      "text/plain": [
       "<IPython.core.display.Math object>"
      ]
     },
     "metadata": {},
     "output_type": "display_data"
    }
   ],
   "source": [
    "(U, s, V) = np.linalg.svd(a, full_matrices=False)\n",
    "\n",
    "# full_matrices=True\n",
    "# S = np.zeros(U.shape, dtype=complex)\n",
    "# S[:U.shape[0], :U.shape[1]] = np.diag(s)\n",
    "\n",
    "# full_matrices=False\n",
    "S = np.diag(s)\n",
    "\n",
    "eq4_svd = 'U=' + bmatrix(U) + '\\quad \\\\ ' + \\\n",
    "          'S=' + bmatrix(S)\n",
    "display(Math(eq4_svd))\n",
    "\n",
    "eq4_svd = 'V=' + bmatrix(V)\n",
    "display(Math(eq4_svd))\n",
    "\n",
    "x = np.dot(V, np.dot(np.linalg.inv(S), np.dot(np.transpose(U), b)))\n",
    "display(Math('x=' + bmatrix(x)))"
   ]
  },
  {
   "cell_type": "markdown",
   "metadata": {},
   "source": [
    "Here because A is close to singular, and that solution from SVD is quite far from the one found, it is more likly that more solution are possible."
   ]
  },
  {
   "cell_type": "markdown",
   "metadata": {},
   "source": [
    "### c."
   ]
  },
  {
   "cell_type": "code",
   "execution_count": 117,
   "metadata": {},
   "outputs": [
    {
     "data": {
      "text/latex": [
       "$$A=\\begin{bmatrix}\n",
       "  4 & 7 & 0\\\\\n",
       "  2 & 2 & -6\\\\\n",
       "  1 & 2 & 1\\\\\n",
       "\\end{bmatrix}\\quad b=\\begin{bmatrix}\n",
       "  18\\\\\n",
       "  -12\\\\\n",
       "  8\\\\\n",
       "\\end{bmatrix}$$"
      ],
      "text/plain": [
       "<IPython.core.display.Math object>"
      ]
     },
     "metadata": {},
     "output_type": "display_data"
    }
   ],
   "source": [
    "a = np.array([[4, 7, 0],\n",
    "              [2, 2, -6],\n",
    "              [1, 2, 1]])\n",
    "b = np.array([[18],\n",
    "              [-12],\n",
    "              [8]])\n",
    "display(Math('A=' + bmatrix(a) + '\\quad ' + 'b=' + bmatrix(b)))"
   ]
  },
  {
   "cell_type": "markdown",
   "metadata": {},
   "source": [
    "By solving for the system of equations, we arive at a well defined solution:"
   ]
  },
  {
   "cell_type": "code",
   "execution_count": 118,
   "metadata": {},
   "outputs": [
    {
     "data": {
      "text/latex": [
       "$$x=\\begin{bmatrix}\n",
       "  4.5\\\\\n",
       "  0.\\\\\n",
       "  3.5\\\\\n",
       "\\end{bmatrix}$$"
      ],
      "text/plain": [
       "<IPython.core.display.Math object>"
      ]
     },
     "metadata": {},
     "output_type": "display_data"
    }
   ],
   "source": [
    "x = np.linalg.solve(a, b)\n",
    "display(Math('x=' + bmatrix(x)))"
   ]
  },
  {
   "cell_type": "code",
   "execution_count": 119,
   "metadata": {},
   "outputs": [
    {
     "data": {
      "text/latex": [
       "$$Det(A)=-3.33066907388e-16\\quad A^{-1}=\\begin{bmatrix}\n",
       "  -4.20335965e+16 & 2.10167983e+16 & 1.26100790e+17\\\\\n",
       "  2.40191980e+16 & -1.20095990e+16 & -7.20575940e+16\\\\\n",
       "  -6.00479950e+15 & 3.00239975e+15 & 1.80143985e+16\\\\\n",
       "\\end{bmatrix}$$"
      ],
      "text/plain": [
       "<IPython.core.display.Math object>"
      ]
     },
     "metadata": {},
     "output_type": "display_data"
    }
   ],
   "source": [
    "a_det = np.linalg.det(a)\n",
    "a_1 = np.linalg.inv(a)\n",
    "display(Math('Det(A)=' + str(a_det) + '\\quad ' + 'A^{-1}=' + bmatrix(a_1)))"
   ]
  },
  {
   "cell_type": "markdown",
   "metadata": {},
   "source": [
    "However, we see that the determinant of A is quite close to 0, meaing that A is almost singular."
   ]
  },
  {
   "cell_type": "code",
   "execution_count": 114,
   "metadata": {},
   "outputs": [
    {
     "data": {
      "text/latex": [
       "$$U=\\begin{bmatrix}\n",
       "  -0.84780042 & 0.42857143 & -0.31234752\\\\\n",
       "  -0.49083182 & -0.85714286 & 0.15617376\\\\\n",
       "  -0.20079484 & 0.28571429 & 0.93704257\\\\\n",
       "\\end{bmatrix}\\quad \\ S=\\begin{bmatrix}\n",
       "  9.05538514e+00 & 0.00000000e+00 & 0.00000000e+00\\\\\n",
       "  0.00000000e+00 & 5.74456265e+00 & 0.00000000e+00\\\\\n",
       "  0.00000000e+00 & 0.00000000e+00 & 1.05319976e-16\\\\\n",
       "\\end{bmatrix}$$"
      ],
      "text/plain": [
       "<IPython.core.display.Math object>"
      ]
     },
     "metadata": {},
     "output_type": "display_data"
    },
    {
     "data": {
      "text/latex": [
       "$$V=\\begin{bmatrix}\n",
       "  -0.50507627 & -0.80812204 & 0.30304576\\\\\n",
       "  0.04973647 & 0.32328708 & 0.94499299\\\\\n",
       "  0.86164044 & -0.49236596 & 0.12309149\\\\\n",
       "\\end{bmatrix}$$"
      ],
      "text/plain": [
       "<IPython.core.display.Math object>"
      ]
     },
     "metadata": {},
     "output_type": "display_data"
    },
    {
     "data": {
      "text/latex": [
       "$$x=\\begin{bmatrix}\n",
       "  -2.24146804\\\\\n",
       "  1.08133057\\\\\n",
       "  -2.78315274\\\\\n",
       "\\end{bmatrix}$$"
      ],
      "text/plain": [
       "<IPython.core.display.Math object>"
      ]
     },
     "metadata": {},
     "output_type": "display_data"
    }
   ],
   "source": [
    "(U, s, V) = np.linalg.svd(a, full_matrices=False)\n",
    "\n",
    "# full_matrices=True\n",
    "# S = np.zeros(U.shape, dtype=complex)\n",
    "# S[:U.shape[0], :U.shape[1]] = np.diag(s)\n",
    "\n",
    "# full_matrices=False\n",
    "S = np.diag(s)\n",
    "\n",
    "eq4_svd = 'U=' + bmatrix(U) + '\\quad \\\\ ' + \\\n",
    "          'S=' + bmatrix(S)\n",
    "display(Math(eq4_svd))\n",
    "\n",
    "eq4_svd = 'V=' + bmatrix(V)\n",
    "display(Math(eq4_svd))\n",
    "\n",
    "x = np.dot(V, np.dot(np.linalg.inv(S), np.dot(np.transpose(U), b)))\n",
    "display(Math('x=' + bmatrix(x)))"
   ]
  },
  {
   "cell_type": "markdown",
   "metadata": {},
   "source": [
    "## 4. \n",
    "> A frequent problem in perception is that you see an object from multiple positions. Consider that you have recorded two datasets $\\{a_i\\}$ and $\\{b_i\\}$ with $i = 1 \\dots n$ and we assume we have established correspondance between the data points. How could you use SVD or similar techniques to compute the relatively transformation between the datasets $a$ and $b$ assuming that the datasets have many data points and you are expected to use all the data-points."
   ]
  },
  {
   "cell_type": "markdown",
   "metadata": {},
   "source": [
    "If we take a look at the homogeneous coordinate transformation that translats and rotates the point from one cordenate frame to the other:\n",
    "\n",
    "$$\n",
    "\\begin{bmatrix}\n",
    "    r_{11} & r_{12} & r_{13} & t_{x} \\\\\n",
    "    r_{21} & r_{22} & r_{23} & t_{y} \\\\\n",
    "    r_{31} & r_{32} & r_{33} & t_{z} \\\\\n",
    "    0      & 0      & 0      & 1\n",
    "\\end{bmatrix}\n",
    "\\begin{bmatrix}\n",
    "    x_{1a} \\\\\n",
    "    y_{1a} \\\\\n",
    "    z_{1a} \\\\\n",
    "    1\n",
    "\\end{bmatrix}\n",
    "=\n",
    "\\begin{bmatrix}\n",
    "    x_{1b} \\\\\n",
    "    y_{1b} \\\\\n",
    "    z_{1b} \\\\\n",
    "    1\n",
    "\\end{bmatrix}\n",
    ",\\quad\n",
    "\\begin{bmatrix}\n",
    "    r_{11} & r_{12} & r_{13} & t_{x} \\\\\n",
    "    r_{21} & r_{22} & r_{23} & t_{y} \\\\\n",
    "    r_{31} & r_{32} & r_{33} & t_{z} \\\\\n",
    "    0      & 0      & 0      & 1\n",
    "\\end{bmatrix}\n",
    "\\begin{bmatrix}\n",
    "    x_{2a} \\\\\n",
    "    y_{2a} \\\\\n",
    "    z_{2a} \\\\\n",
    "    1\n",
    "\\end{bmatrix}\n",
    "=\n",
    "\\begin{bmatrix}\n",
    "    x_{2b} \\\\\n",
    "    y_{2b} \\\\\n",
    "    z_{2b} \\\\\n",
    "    1\n",
    "\\end{bmatrix}\n",
    "$$ "
   ]
  },
  {
   "cell_type": "markdown",
   "metadata": {},
   "source": [
    "We'll see that we can append such transformation together into one large operation.\n",
    "\n",
    "$$\n",
    "\\begin{bmatrix}\n",
    "    r_{11} & r_{12} & r_{13} & t_{x} \\\\\n",
    "    r_{21} & r_{22} & r_{23} & t_{y} \\\\\n",
    "    r_{31} & r_{32} & r_{33} & t_{z} \\\\\n",
    "    0      & 0      & 0      & 1\n",
    "\\end{bmatrix}\n",
    "\\begin{bmatrix}\n",
    "    x_{1a} & \\dots & x_{na}\\\\\n",
    "    y_{1a} & \\dots & y_{na}\\\\\n",
    "    z_{1a} & \\dots & z_{na}\\\\\n",
    "    1      & \\dots & 1 \n",
    "\\end{bmatrix}\n",
    "=\n",
    "\\begin{bmatrix}\n",
    "    x_{1b} & \\dots & x_{nb}\\\\\n",
    "    y_{1b} & \\dots & y_{nb}\\\\\n",
    "    z_{1b} & \\dots & z_{nb}\\\\\n",
    "    1      & \\dots & 1 \n",
    "\\end{bmatrix}\n",
    "$$"
   ]
  },
  {
   "cell_type": "markdown",
   "metadata": {},
   "source": [
    "By transposing the equalities above, we can more clearly see the set of linear set of equations we can use to solve for the $R$ and $T$ components of the unknown transformation:\n",
    "\n",
    "$$\n",
    "\\begin{bmatrix}\n",
    "    x_{1a} & y_{1a} & z_{1a} & 1     \\\\\n",
    "    \\vdots & \\vdots & \\vdots & \\vdots \\\\\n",
    "    x_{na} & y_{na} & z_{na} & 1     \\\\\n",
    "\\end{bmatrix}\n",
    "\\begin{bmatrix}\n",
    "    r_{11} & r_{12} & r_{13} & t_{x} \\\\\n",
    "    r_{21} & r_{22} & r_{23} & t_{y} \\\\\n",
    "    r_{31} & r_{32} & r_{33} & t_{z} \\\\\n",
    "    0      & 0      & 0      & 1\n",
    "\\end{bmatrix}^T\n",
    "=\n",
    "\\begin{bmatrix}\n",
    "    x_{1b} & y_{1b} & z_{1b} & 1     \\\\\n",
    "    \\vdots & \\vdots & \\vdots & \\vdots \\\\\n",
    "    x_{nb} & y_{nb} & z_{nb} & 1     \\\\\n",
    "\\end{bmatrix}\n",
    "$$\n",
    "\n",
    "It should be noted that a minimum of 8 associated points forming 8 equations are necessary to solve for the 8 unknown in the rotation and translation of the 3D transformation."
   ]
  },
  {
   "cell_type": "markdown",
   "metadata": {},
   "source": [
    "Given the points may be noise, i.e. mensuments made from one references frame may be subject to error, it is perhaps best to Random sample consensus (RANSAC) as an iterative method to estimate the coefficients within the homogeneous transformation matrix. In this way we can ensure that observed data containing outliers from mesurment noise are to be accorded no influence on eventual estimate."
   ]
  },
  {
   "cell_type": "code",
   "execution_count": null,
   "metadata": {
    "collapsed": true
   },
   "outputs": [],
   "source": []
  }
 ],
 "metadata": {
  "kernelspec": {
   "display_name": "Python [conda root]",
   "language": "python",
   "name": "conda-root-py"
  },
  "language_info": {
   "codemirror_mode": {
    "name": "ipython",
    "version": 3
   },
   "file_extension": ".py",
   "mimetype": "text/x-python",
   "name": "python",
   "nbconvert_exporter": "python",
   "pygments_lexer": "ipython3",
   "version": "3.5.2"
  }
 },
 "nbformat": 4,
 "nbformat_minor": 2
}
